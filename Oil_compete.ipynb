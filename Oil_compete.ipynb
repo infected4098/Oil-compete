{
  "nbformat": 4,
  "nbformat_minor": 0,
  "metadata": {
    "colab": {
      "provenance": [],
      "toc_visible": true,
      "collapsed_sections": [
        "xh2uWY3A3hm8",
        "ZIwyhsMO4C0F",
        "ypNGXEhlt_fE",
        "YE2H5XyoFhyF",
        "iLuUvb3n4ha7",
        "wdf9OXKw5GVR",
        "Q_xYp8MK9-lJ"
      ],
      "authorship_tag": "ABX9TyMFn9Utzt2AVqELVYTIKzl/",
      "include_colab_link": true
    },
    "kernelspec": {
      "name": "python3",
      "display_name": "Python 3"
    },
    "language_info": {
      "name": "python"
    }
  },
  "cells": [
    {
      "cell_type": "markdown",
      "metadata": {
        "id": "view-in-github",
        "colab_type": "text"
      },
      "source": [
        "<a href=\"https://colab.research.google.com/github/infected4098/Oil-compete/blob/main/Oil_compete.ipynb\" target=\"_parent\"><img src=\"https://colab.research.google.com/assets/colab-badge.svg\" alt=\"Open In Colab\"/></a>"
      ]
    },
    {
      "cell_type": "markdown",
      "source": [
        "# 파일 임포트\n"
      ],
      "metadata": {
        "id": "jYFRWjz_3EXH"
      }
    },
    {
      "cell_type": "code",
      "execution_count": null,
      "metadata": {
        "colab": {
          "base_uri": "https://localhost:8080/"
        },
        "id": "zFxxeiOn3AGf",
        "outputId": "020a4952-9a92-4055-95fb-2b0aa792f73c"
      },
      "outputs": [
        {
          "output_type": "stream",
          "name": "stdout",
          "text": [
            "Mounted at /content/gdrive\n"
          ]
        }
      ],
      "source": [
        "#딥러닝 프레임워크\n",
        "import torch\n",
        "import torch.nn as nn\n",
        "import torch.nn.functional as F\n",
        "import torch.optim as optim\n",
        "from torch.utils.data import DataLoader, Dataset\n",
        "\n",
        "#전처리, 점수 측정\n",
        "from sklearn.metrics import f1_score\n",
        "from sklearn.preprocessing import StandardScaler\n",
        "from sklearn.preprocessing import LabelEncoder\n",
        "from sklearn.model_selection import train_test_split\n",
        "\n",
        "#컴퓨터 리소스 할당 관련 \n",
        "import os\n",
        "from tqdm.auto import tqdm \n",
        "\n",
        "#기초 툴, 시각화\n",
        "import pandas as pd\n",
        "import matplotlib.pyplot as plt\n",
        "import seaborn as sns\n",
        "import numpy as np\n",
        "\n",
        "#기타\n",
        "import warnings\n",
        "warnings.filterwarnings(\"ignore\")\n",
        "\n",
        "#통계 패키지. 다중공선성 체크\n",
        "from statsmodels.stats.outliers_influence import variance_inflation_factor\n"
      ]
    },
    {
      "cell_type": "code",
      "source": [
        "#드라이브 소싱\n",
        "from google.colab import drive\n",
        "drive.mount('/content/gdrive')\n",
        "device = torch.device('cuda') if torch.cuda.is_available() else torch.device('cpu')\n",
        "\n",
        "#document 위치: /Users/infected4098/Desktop/오일상태 분류"
      ],
      "metadata": {
        "colab": {
          "base_uri": "https://localhost:8080/"
        },
        "id": "0nwlr0P-y4iM",
        "outputId": "8709d3ff-57c9-4f42-e17c-230a00022389"
      },
      "execution_count": null,
      "outputs": [
        {
          "output_type": "stream",
          "name": "stdout",
          "text": [
            "Drive already mounted at /content/gdrive; to attempt to forcibly remount, call drive.mount(\"/content/gdrive\", force_remount=True).\n"
          ]
        }
      ]
    },
    {
      "cell_type": "code",
      "source": [
        "train_1 = pd.read_csv(\"/content/gdrive/MyDrive/오일상태 분류/train.csv\")\n",
        "\n",
        "move_train = train_1.copy()\n",
        "\n",
        "test = pd.read_csv(\"/content/gdrive/MyDrive/오일상태 분류/test.csv\")\n",
        "\n",
        "\n",
        "print(train_1.shape, test.shape)\n",
        "\n",
        "#데이터가 14095개. feature 는 54개. "
      ],
      "metadata": {
        "colab": {
          "base_uri": "https://localhost:8080/"
        },
        "id": "fAV2bzoC3GS4",
        "outputId": "bac641d8-5d98-425e-bab1-74c1d6dee370"
      },
      "execution_count": null,
      "outputs": [
        {
          "output_type": "stream",
          "name": "stdout",
          "text": [
            "(14095, 54) (6041, 19)\n"
          ]
        }
      ]
    },
    {
      "cell_type": "code",
      "source": [
        "train_col = train_1.columns\n",
        "\n",
        "#test_col = test.columns\n",
        "\n",
        "test_col = ['COMPONENT_ARBITRARY', 'ANONYMOUS_1', 'ANONYMOUS_2', 'AG',\n",
        "       'CO', 'CR', 'CU', 'FE', 'H2O', 'MN', 'MO', 'NI', 'PQINDEX', 'TI', 'V',\n",
        "       'V40', 'ZN']"
      ],
      "metadata": {
        "id": "2B8Azzno3GQm"
      },
      "execution_count": null,
      "outputs": []
    },
    {
      "cell_type": "markdown",
      "source": [
        "# 이상치 체크\n"
      ],
      "metadata": {
        "id": "xh2uWY3A3hm8"
      }
    },
    {
      "cell_type": "code",
      "source": [
        "#무명 feature 1, 2\n",
        "anon = [\"ANONYMOUS_1\", \"ANONYMOUS_2\"]\n",
        "na_value = train_1.apply(lambda x: x.isna().sum())\n",
        "\n",
        "\n",
        "real_na = na_value[na_value>0]\n",
        "\n",
        "plt.bar(real_na.index, real_na)\n",
        "plt.xticks(rotation=40)"
      ],
      "metadata": {
        "colab": {
          "base_uri": "https://localhost:8080/",
          "height": 359
        },
        "id": "q5uCJEVo3GOl",
        "outputId": "e617827a-0fb1-480c-933b-27a1e4ba95c1"
      },
      "execution_count": null,
      "outputs": [
        {
          "output_type": "execute_result",
          "data": {
            "text/plain": [
              "([0, 1, 2, 3, 4, 5, 6, 7, 8, 9, 10, 11, 12, 13, 14, 15, 16, 17, 18],\n",
              " <a list of 19 Text major ticklabel objects>)"
            ]
          },
          "metadata": {},
          "execution_count": 6
        },
        {
          "output_type": "display_data",
          "data": {
            "text/plain": [
              "<Figure size 432x288 with 1 Axes>"
            ],
            "image/png": "[encoded data removed]"
          },
          "metadata": {
            "needs_background": "light"
          }
        }
      ]
    },
    {
      "cell_type": "code",
      "source": [
        "#카드뮴 함유량 정보는 결측치가 1394개 있음.\n",
        "#FH20. FNOX, FOPTIMETHGLY, \n",
        "\n",
        "#결측치들 처리 방식에 대해 고민하기\n",
        "for value in list(train_1[\"CD\"].unique()):\n",
        "  print(value, sum(train_1[\"CD\"]==value))\n",
        "#0이 거의 대부분의 데이터니까 .train[\"CD\"]는 결측값 0으로 대체"
      ],
      "metadata": {
        "colab": {
          "base_uri": "https://localhost:8080/"
        },
        "id": "ieks0G9s3GLq",
        "outputId": "740ff39a-7724-4402-90a6-3eede3c180cb"
      },
      "execution_count": null,
      "outputs": [
        {
          "output_type": "stream",
          "name": "stdout",
          "text": [
            "0.0 12543\n",
            "nan 0\n",
            "1.0 138\n",
            "2.0 16\n",
            "4.0 1\n",
            "18.0 1\n",
            "3.0 2\n"
          ]
        }
      ]
    },
    {
      "cell_type": "code",
      "source": [
        "move_train[\"CD\"] = move_train[\"CD\"].fillna(0)\n",
        "print(move_train[\"CD\"])\n",
        "\n",
        "#potassium 함유량. \"K\". 결측치 2292개 \n",
        "K_nonna_train = train_1[train_1[\"K\"].isna()==False]\n",
        "\n",
        "plt.boxplot(K_nonna_train[\"K\"])"
      ],
      "metadata": {
        "colab": {
          "base_uri": "https://localhost:8080/",
          "height": 622
        },
        "id": "XYpUw8xj3GJa",
        "outputId": "7beb197b-d65f-4124-d3fd-143993e0072e"
      },
      "execution_count": null,
      "outputs": [
        {
          "output_type": "stream",
          "name": "stdout",
          "text": [
            "0        0.0\n",
            "1        0.0\n",
            "2        0.0\n",
            "3        0.0\n",
            "4        0.0\n",
            "        ... \n",
            "14090    0.0\n",
            "14091    0.0\n",
            "14092    0.0\n",
            "14093    0.0\n",
            "14094    0.0\n",
            "Name: CD, Length: 14095, dtype: float64\n"
          ]
        },
        {
          "output_type": "execute_result",
          "data": {
            "text/plain": [
              "{'whiskers': [<matplotlib.lines.Line2D at 0x7f1623c86390>,\n",
              "  <matplotlib.lines.Line2D at 0x7f1623c868d0>],\n",
              " 'caps': [<matplotlib.lines.Line2D at 0x7f1623c86e10>,\n",
              "  <matplotlib.lines.Line2D at 0x7f1623c8f390>],\n",
              " 'boxes': [<matplotlib.lines.Line2D at 0x7f1623ca8810>],\n",
              " 'medians': [<matplotlib.lines.Line2D at 0x7f1623c8f910>],\n",
              " 'fliers': [<matplotlib.lines.Line2D at 0x7f1623c8fe50>],\n",
              " 'means': []}"
            ]
          },
          "metadata": {},
          "execution_count": 8
        },
        {
          "output_type": "display_data",
          "data": {
            "text/plain": [
              "<Figure size 432x288 with 1 Axes>"
            ],
            "image/png": "[encoded data removed]"
          },
          "metadata": {
            "needs_background": "light"
          }
        }
      ]
    },
    {
      "cell_type": "code",
      "source": [
        "K_nonna_train[\"K\"].describe()"
      ],
      "metadata": {
        "colab": {
          "base_uri": "https://localhost:8080/"
        },
        "id": "jNeH5EAl3GE0",
        "outputId": "51c0300a-2fad-410b-cae7-bb6c583ad96b"
      },
      "execution_count": null,
      "outputs": [
        {
          "output_type": "execute_result",
          "data": {
            "text/plain": [
              "count    11796.000000\n",
              "mean         3.611224\n",
              "std         15.630404\n",
              "min          0.000000\n",
              "25%          0.000000\n",
              "50%          2.000000\n",
              "75%          3.000000\n",
              "max        705.000000\n",
              "Name: K, dtype: float64"
            ]
          },
          "metadata": {},
          "execution_count": 9
        }
      ]
    },
    {
      "cell_type": "code",
      "source": [
        "K_median = K_nonna_train[\"K\"].median()\n",
        "#중위값으로 대체하자 \n",
        "\n",
        "\n",
        "move_train[\"K\"]=move_train[\"K\"].fillna(K_median)\n",
        "\n",
        "\n",
        "move_train[\"K\"].isna().sum()"
      ],
      "metadata": {
        "colab": {
          "base_uri": "https://localhost:8080/"
        },
        "id": "7bCSY6dm3GCZ",
        "outputId": "a1883abd-8db0-4c68-bdf8-4ed15ce7cdb0"
      },
      "execution_count": null,
      "outputs": [
        {
          "output_type": "execute_result",
          "data": {
            "text/plain": [
              "0"
            ]
          },
          "metadata": {},
          "execution_count": 10
        }
      ]
    },
    {
      "cell_type": "code",
      "source": [
        "med_na_index = real_na.index[1:8]\n",
        "for i in med_na_index:\n",
        "  print(train_1[i].describe(), train_1[i].median(), train_1[i].skew())"
      ],
      "metadata": {
        "colab": {
          "base_uri": "https://localhost:8080/"
        },
        "id": "07XWu8oB3GAH",
        "outputId": "6f0d8ef1-ddfd-4c64-b9d1-484a058a7e0f"
      },
      "execution_count": null,
      "outputs": [
        {
          "output_type": "stream",
          "name": "stdout",
          "text": [
            "count    3890.000000\n",
            "mean       15.242159\n",
            "std        17.591679\n",
            "min         6.000000\n",
            "25%        11.000000\n",
            "50%        13.000000\n",
            "75%        15.000000\n",
            "max       320.000000\n",
            "Name: FH2O, dtype: float64 13.0 12.364062325726515\n",
            "count    3890.000000\n",
            "mean        7.138303\n",
            "std         1.860775\n",
            "min         3.000000\n",
            "25%         6.000000\n",
            "50%         7.000000\n",
            "75%         8.000000\n",
            "max        38.000000\n",
            "Name: FNOX, dtype: float64 7.0 2.7896483732121005\n",
            "count    3890.000000\n",
            "mean        0.532905\n",
            "std         0.621937\n",
            "min         0.000000\n",
            "25%         0.000000\n",
            "50%         0.000000\n",
            "75%         1.000000\n",
            "max        13.000000\n",
            "Name: FOPTIMETHGLY, dtype: float64 0.0 3.6802441734442652\n",
            "count    3890.000000\n",
            "mean       12.495373\n",
            "std         3.439535\n",
            "min         4.000000\n",
            "25%        10.000000\n",
            "50%        12.000000\n",
            "75%        14.750000\n",
            "max        68.000000\n",
            "Name: FOXID, dtype: float64 12.0 2.6158954295372467\n",
            "count    3890.000000\n",
            "mean       20.284319\n",
            "std         3.234296\n",
            "min        10.000000\n",
            "25%        18.000000\n",
            "50%        20.000000\n",
            "75%        22.000000\n",
            "max        68.000000\n",
            "Name: FSO4, dtype: float64 20.0 2.8015301110224584\n",
            "count    3890.000000\n",
            "mean        8.783239\n",
            "std         1.339355\n",
            "min         0.000000\n",
            "25%         8.100000\n",
            "50%         8.700000\n",
            "75%         9.600000\n",
            "max        27.700000\n",
            "Name: FTBN, dtype: float64 8.7 0.33652232468627147\n",
            "count    3890.000000\n",
            "mean        0.185347\n",
            "std         0.899253\n",
            "min         0.000000\n",
            "25%         0.000000\n",
            "50%         0.000000\n",
            "75%         0.000000\n",
            "max        12.000000\n",
            "Name: FUEL, dtype: float64 0.0 7.702714468957186\n"
          ]
        }
      ]
    },
    {
      "cell_type": "code",
      "source": [
        "move_train[\"FH2O\"] = move_train[\"FH2O\"].fillna(train_1[\"FH2O\"].median())\n",
        "move_train[\"FOPTIMETHGLY\"] = move_train[\"FOPTIMETHGLY\"].fillna(0) #0이 median\n",
        "move_train[\"FNOX\"] = move_train[\"FNOX\"].fillna(7) #7이 median\n",
        "move_train[\"FOXID\"] = move_train[\"FOXID\"].fillna(12) #12이 median\n",
        "move_train[\"FSO4\"] = move_train[\"FSO4\"].fillna(20) #20이 median\n",
        "move_train[\"FUEL\"] = move_train[\"FUEL\"].fillna(0) #0이 median\n",
        "move_train[\"FTBN\"] = move_train[\"FTBN\"].fillna(train_1[\"FTBN\"].mean()) #skew 하지 않으니 mean 으로 대체 "
      ],
      "metadata": {
        "id": "xulAxvTL3F93"
      },
      "execution_count": null,
      "outputs": []
    },
    {
      "cell_type": "code",
      "source": [
        "for leftover_index in real_na[9:].index:\n",
        "  if np.abs(train_1[leftover_index].skew())>2.0:\n",
        "    #skewed. using median\n",
        "    move_train[leftover_index]=move_train[leftover_index].fillna(train_1[leftover_index].median())\n",
        "\n",
        "  else:\n",
        "    #not skewed. using mean\n",
        "    move_train[leftover_index]=move_train[leftover_index].fillna(train_1[leftover_index].mean())\n",
        "\n"
      ],
      "metadata": {
        "id": "s4AzfO-J3F2w"
      },
      "execution_count": null,
      "outputs": []
    },
    {
      "cell_type": "markdown",
      "source": [
        "# 범주형 데이터 처리 및 연산량 너무 쓸모없이 많은 거 처리\n"
      ],
      "metadata": {
        "id": "ZIwyhsMO4C0F"
      }
    },
    {
      "cell_type": "code",
      "source": [
        "real_train = move_train.copy()\n",
        "real_train = real_train.drop([\"ID\"], axis=1)\n",
        "real_train.head()\n",
        "#이미 id로 index reset 함."
      ],
      "metadata": {
        "colab": {
          "base_uri": "https://localhost:8080/",
          "height": 300
        },
        "id": "-xgDnYrF34NK",
        "outputId": "c8302e6f-6f13-4d59-fb53-8f3d83d88ef2"
      },
      "execution_count": null,
      "outputs": [
        {
          "output_type": "execute_result",
          "data": {
            "text/plain": [
              "  COMPONENT_ARBITRARY  ANONYMOUS_1  YEAR  SAMPLE_TRANSFER_DAY  ANONYMOUS_2  \\\n",
              "0          COMPONENT3         1486  2011                    7          200   \n",
              "1          COMPONENT2         1350  2021                   51          375   \n",
              "2          COMPONENT2         2415  2015                    2          200   \n",
              "3          COMPONENT3         7389  2010                    2          200   \n",
              "4          COMPONENT3         3954  2015                    4          200   \n",
              "\n",
              "   AG   AL    B  BA  BE  ...  U25   U20   U14       U6       U4  V      V100  \\\n",
              "0   0    3   93   0   0  ...  7.0  13.0  57.0   1753.0  12691.5  0  13.57623   \n",
              "1   0    2   19   0   0  ...  2.0   4.0   6.0    216.0   1454.0  0  13.57623   \n",
              "2   0  110    1   1   0  ...  0.0   3.0  39.0  11261.0  41081.0  0  13.57623   \n",
              "3   0    8    3   0   0  ...  7.0  13.0  57.0   1753.0  12691.5  0  13.57623   \n",
              "4   0    1  157   0   0  ...  7.0  13.0  57.0   1753.0  12691.5  0  13.57623   \n",
              "\n",
              "     V40   ZN  Y_LABEL  \n",
              "0  154.0   75        0  \n",
              "1   44.0  652        0  \n",
              "2   72.6  412        1  \n",
              "3  133.3    7        0  \n",
              "4  133.1  128        0  \n",
              "\n",
              "[5 rows x 53 columns]"
            ],
            "text/html": [
              "\n",
              "  <div id=\"df-d9c36fef-f473-4b67-bdc1-870f71d7fcae\">\n",
              "    <div class=\"colab-df-container\">\n",
              "      <div>\n",
              "<style scoped>\n",
              "    .dataframe tbody tr th:only-of-type {\n",
              "        vertical-align: middle;\n",
              "    }\n",
              "\n",
              "    .dataframe tbody tr th {\n",
              "        vertical-align: top;\n",
              "    }\n",
              "\n",
              "    .dataframe thead th {\n",
              "        text-align: right;\n",
              "    }\n",
              "</style>\n",
              "<table border=\"1\" class=\"dataframe\">\n",
              "  <thead>\n",
              "    <tr style=\"text-align: right;\">\n",
              "      <th></th>\n",
              "      <th>COMPONENT_ARBITRARY</th>\n",
              "      <th>ANONYMOUS_1</th>\n",
              "      <th>YEAR</th>\n",
              "      <th>SAMPLE_TRANSFER_DAY</th>\n",
              "      <th>ANONYMOUS_2</th>\n",
              "      <th>AG</th>\n",
              "      <th>AL</th>\n",
              "      <th>B</th>\n",
              "      <th>BA</th>\n",
              "      <th>BE</th>\n",
              "      <th>...</th>\n",
              "      <th>U25</th>\n",
              "      <th>U20</th>\n",
              "      <th>U14</th>\n",
              "      <th>U6</th>\n",
              "      <th>U4</th>\n",
              "      <th>V</th>\n",
              "      <th>V100</th>\n",
              "      <th>V40</th>\n",
              "      <th>ZN</th>\n",
              "      <th>Y_LABEL</th>\n",
              "    </tr>\n",
              "  </thead>\n",
              "  <tbody>\n",
              "    <tr>\n",
              "      <th>0</th>\n",
              "      <td>COMPONENT3</td>\n",
              "      <td>1486</td>\n",
              "      <td>2011</td>\n",
              "      <td>7</td>\n",
              "      <td>200</td>\n",
              "      <td>0</td>\n",
              "      <td>3</td>\n",
              "      <td>93</td>\n",
              "      <td>0</td>\n",
              "      <td>0</td>\n",
              "      <td>...</td>\n",
              "      <td>7.0</td>\n",
              "      <td>13.0</td>\n",
              "      <td>57.0</td>\n",
              "      <td>1753.0</td>\n",
              "      <td>12691.5</td>\n",
              "      <td>0</td>\n",
              "      <td>13.57623</td>\n",
              "      <td>154.0</td>\n",
              "      <td>75</td>\n",
              "      <td>0</td>\n",
              "    </tr>\n",
              "    <tr>\n",
              "      <th>1</th>\n",
              "      <td>COMPONENT2</td>\n",
              "      <td>1350</td>\n",
              "      <td>2021</td>\n",
              "      <td>51</td>\n",
              "      <td>375</td>\n",
              "      <td>0</td>\n",
              "      <td>2</td>\n",
              "      <td>19</td>\n",
              "      <td>0</td>\n",
              "      <td>0</td>\n",
              "      <td>...</td>\n",
              "      <td>2.0</td>\n",
              "      <td>4.0</td>\n",
              "      <td>6.0</td>\n",
              "      <td>216.0</td>\n",
              "      <td>1454.0</td>\n",
              "      <td>0</td>\n",
              "      <td>13.57623</td>\n",
              "      <td>44.0</td>\n",
              "      <td>652</td>\n",
              "      <td>0</td>\n",
              "    </tr>\n",
              "    <tr>\n",
              "      <th>2</th>\n",
              "      <td>COMPONENT2</td>\n",
              "      <td>2415</td>\n",
              "      <td>2015</td>\n",
              "      <td>2</td>\n",
              "      <td>200</td>\n",
              "      <td>0</td>\n",
              "      <td>110</td>\n",
              "      <td>1</td>\n",
              "      <td>1</td>\n",
              "      <td>0</td>\n",
              "      <td>...</td>\n",
              "      <td>0.0</td>\n",
              "      <td>3.0</td>\n",
              "      <td>39.0</td>\n",
              "      <td>11261.0</td>\n",
              "      <td>41081.0</td>\n",
              "      <td>0</td>\n",
              "      <td>13.57623</td>\n",
              "      <td>72.6</td>\n",
              "      <td>412</td>\n",
              "      <td>1</td>\n",
              "    </tr>\n",
              "    <tr>\n",
              "      <th>3</th>\n",
              "      <td>COMPONENT3</td>\n",
              "      <td>7389</td>\n",
              "      <td>2010</td>\n",
              "      <td>2</td>\n",
              "      <td>200</td>\n",
              "      <td>0</td>\n",
              "      <td>8</td>\n",
              "      <td>3</td>\n",
              "      <td>0</td>\n",
              "      <td>0</td>\n",
              "      <td>...</td>\n",
              "      <td>7.0</td>\n",
              "      <td>13.0</td>\n",
              "      <td>57.0</td>\n",
              "      <td>1753.0</td>\n",
              "      <td>12691.5</td>\n",
              "      <td>0</td>\n",
              "      <td>13.57623</td>\n",
              "      <td>133.3</td>\n",
              "      <td>7</td>\n",
              "      <td>0</td>\n",
              "    </tr>\n",
              "    <tr>\n",
              "      <th>4</th>\n",
              "      <td>COMPONENT3</td>\n",
              "      <td>3954</td>\n",
              "      <td>2015</td>\n",
              "      <td>4</td>\n",
              "      <td>200</td>\n",
              "      <td>0</td>\n",
              "      <td>1</td>\n",
              "      <td>157</td>\n",
              "      <td>0</td>\n",
              "      <td>0</td>\n",
              "      <td>...</td>\n",
              "      <td>7.0</td>\n",
              "      <td>13.0</td>\n",
              "      <td>57.0</td>\n",
              "      <td>1753.0</td>\n",
              "      <td>12691.5</td>\n",
              "      <td>0</td>\n",
              "      <td>13.57623</td>\n",
              "      <td>133.1</td>\n",
              "      <td>128</td>\n",
              "      <td>0</td>\n",
              "    </tr>\n",
              "  </tbody>\n",
              "</table>\n",
              "<p>5 rows × 53 columns</p>\n",
              "</div>\n",
              "      <button class=\"colab-df-convert\" onclick=\"convertToInteractive('df-d9c36fef-f473-4b67-bdc1-870f71d7fcae')\"\n",
              "              title=\"Convert this dataframe to an interactive table.\"\n",
              "              style=\"display:none;\">\n",
              "        \n",
              "  <svg xmlns=\"http://www.w3.org/2000/svg\" height=\"24px\"viewBox=\"0 0 24 24\"\n",
              "       width=\"24px\">\n",
              "    <path d=\"M0 0h24v24H0V0z\" fill=\"none\"/>\n",
              "    <path d=\"M18.56 5.44l.94 2.06.94-2.06 2.06-.94-2.06-.94-.94-2.06-.94 2.06-2.06.94zm-11 1L8.5 8.5l.94-2.06 2.06-.94-2.06-.94L8.5 2.5l-.94 2.06-2.06.94zm10 10l.94 2.06.94-2.06 2.06-.94-2.06-.94-.94-2.06-.94 2.06-2.06.94z\"/><path d=\"M17.41 7.96l-1.37-1.37c-.4-.4-.92-.59-1.43-.59-.52 0-1.04.2-1.43.59L10.3 9.45l-7.72 7.72c-.78.78-.78 2.05 0 2.83L4 21.41c.39.39.9.59 1.41.59.51 0 1.02-.2 1.41-.59l7.78-7.78 2.81-2.81c.8-.78.8-2.07 0-2.86zM5.41 20L4 18.59l7.72-7.72 1.47 1.35L5.41 20z\"/>\n",
              "  </svg>\n",
              "      </button>\n",
              "      \n",
              "  <style>\n",
              "    .colab-df-container {\n",
              "      display:flex;\n",
              "      flex-wrap:wrap;\n",
              "      gap: 12px;\n",
              "    }\n",
              "\n",
              "    .colab-df-convert {\n",
              "      background-color: #E8F0FE;\n",
              "      border: none;\n",
              "      border-radius: 50%;\n",
              "      cursor: pointer;\n",
              "      display: none;\n",
              "      fill: #1967D2;\n",
              "      height: 32px;\n",
              "      padding: 0 0 0 0;\n",
              "      width: 32px;\n",
              "    }\n",
              "\n",
              "    .colab-df-convert:hover {\n",
              "      background-color: #E2EBFA;\n",
              "      box-shadow: 0px 1px 2px rgba(60, 64, 67, 0.3), 0px 1px 3px 1px rgba(60, 64, 67, 0.15);\n",
              "      fill: #174EA6;\n",
              "    }\n",
              "\n",
              "    [theme=dark] .colab-df-convert {\n",
              "      background-color: #3B4455;\n",
              "      fill: #D2E3FC;\n",
              "    }\n",
              "\n",
              "    [theme=dark] .colab-df-convert:hover {\n",
              "      background-color: #434B5C;\n",
              "      box-shadow: 0px 1px 3px 1px rgba(0, 0, 0, 0.15);\n",
              "      filter: drop-shadow(0px 1px 2px rgba(0, 0, 0, 0.3));\n",
              "      fill: #FFFFFF;\n",
              "    }\n",
              "  </style>\n",
              "\n",
              "      <script>\n",
              "        const buttonEl =\n",
              "          document.querySelector('#df-d9c36fef-f473-4b67-bdc1-870f71d7fcae button.colab-df-convert');\n",
              "        buttonEl.style.display =\n",
              "          google.colab.kernel.accessAllowed ? 'block' : 'none';\n",
              "\n",
              "        async function convertToInteractive(key) {\n",
              "          const element = document.querySelector('#df-d9c36fef-f473-4b67-bdc1-870f71d7fcae');\n",
              "          const dataTable =\n",
              "            await google.colab.kernel.invokeFunction('convertToInteractive',\n",
              "                                                     [key], {});\n",
              "          if (!dataTable) return;\n",
              "\n",
              "          const docLinkHtml = 'Like what you see? Visit the ' +\n",
              "            '<a target=\"_blank\" href=https://colab.research.google.com/notebooks/data_table.ipynb>data table notebook</a>'\n",
              "            + ' to learn more about interactive tables.';\n",
              "          element.innerHTML = '';\n",
              "          dataTable['output_type'] = 'display_data';\n",
              "          await google.colab.output.renderOutput(dataTable, element);\n",
              "          const docLink = document.createElement('div');\n",
              "          docLink.innerHTML = docLinkHtml;\n",
              "          element.appendChild(docLink);\n",
              "        }\n",
              "      </script>\n",
              "    </div>\n",
              "  </div>\n",
              "  "
            ]
          },
          "metadata": {},
          "execution_count": 15
        }
      ]
    },
    {
      "cell_type": "code",
      "source": [
        "le = LabelEncoder()\n",
        "le.fit(real_train[\"COMPONENT_ARBITRARY\"])\n",
        "le_encoded = le.transform(real_train[\"COMPONENT_ARBITRARY\"])"
      ],
      "metadata": {
        "id": "QSC9CNLy34LB"
      },
      "execution_count": null,
      "outputs": []
    },
    {
      "cell_type": "code",
      "source": [
        "real_train[\"COMPONENT_ARBITRARY\"] = le_encoded\n",
        "real_train.head()"
      ],
      "metadata": {
        "colab": {
          "base_uri": "https://localhost:8080/",
          "height": 300
        },
        "id": "7oNrQdoR34Iu",
        "outputId": "134310b1-5786-4f50-df12-ad30109aa3ed"
      },
      "execution_count": null,
      "outputs": [
        {
          "output_type": "execute_result",
          "data": {
            "text/plain": [
              "   COMPONENT_ARBITRARY  ANONYMOUS_1  YEAR  SAMPLE_TRANSFER_DAY  ANONYMOUS_2  \\\n",
              "0                    2         1486  2011                    7          200   \n",
              "1                    1         1350  2021                   51          375   \n",
              "2                    1         2415  2015                    2          200   \n",
              "3                    2         7389  2010                    2          200   \n",
              "4                    2         3954  2015                    4          200   \n",
              "\n",
              "   AG   AL    B  BA  BE  ...  U25   U20   U14       U6       U4  V      V100  \\\n",
              "0   0    3   93   0   0  ...  7.0  13.0  57.0   1753.0  12691.5  0  13.57623   \n",
              "1   0    2   19   0   0  ...  2.0   4.0   6.0    216.0   1454.0  0  13.57623   \n",
              "2   0  110    1   1   0  ...  0.0   3.0  39.0  11261.0  41081.0  0  13.57623   \n",
              "3   0    8    3   0   0  ...  7.0  13.0  57.0   1753.0  12691.5  0  13.57623   \n",
              "4   0    1  157   0   0  ...  7.0  13.0  57.0   1753.0  12691.5  0  13.57623   \n",
              "\n",
              "     V40   ZN  Y_LABEL  \n",
              "0  154.0   75        0  \n",
              "1   44.0  652        0  \n",
              "2   72.6  412        1  \n",
              "3  133.3    7        0  \n",
              "4  133.1  128        0  \n",
              "\n",
              "[5 rows x 53 columns]"
            ],
            "text/html": [
              "\n",
              "  <div id=\"df-910b7d16-0be0-4be6-bf39-e1db53e98a18\">\n",
              "    <div class=\"colab-df-container\">\n",
              "      <div>\n",
              "<style scoped>\n",
              "    .dataframe tbody tr th:only-of-type {\n",
              "        vertical-align: middle;\n",
              "    }\n",
              "\n",
              "    .dataframe tbody tr th {\n",
              "        vertical-align: top;\n",
              "    }\n",
              "\n",
              "    .dataframe thead th {\n",
              "        text-align: right;\n",
              "    }\n",
              "</style>\n",
              "<table border=\"1\" class=\"dataframe\">\n",
              "  <thead>\n",
              "    <tr style=\"text-align: right;\">\n",
              "      <th></th>\n",
              "      <th>COMPONENT_ARBITRARY</th>\n",
              "      <th>ANONYMOUS_1</th>\n",
              "      <th>YEAR</th>\n",
              "      <th>SAMPLE_TRANSFER_DAY</th>\n",
              "      <th>ANONYMOUS_2</th>\n",
              "      <th>AG</th>\n",
              "      <th>AL</th>\n",
              "      <th>B</th>\n",
              "      <th>BA</th>\n",
              "      <th>BE</th>\n",
              "      <th>...</th>\n",
              "      <th>U25</th>\n",
              "      <th>U20</th>\n",
              "      <th>U14</th>\n",
              "      <th>U6</th>\n",
              "      <th>U4</th>\n",
              "      <th>V</th>\n",
              "      <th>V100</th>\n",
              "      <th>V40</th>\n",
              "      <th>ZN</th>\n",
              "      <th>Y_LABEL</th>\n",
              "    </tr>\n",
              "  </thead>\n",
              "  <tbody>\n",
              "    <tr>\n",
              "      <th>0</th>\n",
              "      <td>2</td>\n",
              "      <td>1486</td>\n",
              "      <td>2011</td>\n",
              "      <td>7</td>\n",
              "      <td>200</td>\n",
              "      <td>0</td>\n",
              "      <td>3</td>\n",
              "      <td>93</td>\n",
              "      <td>0</td>\n",
              "      <td>0</td>\n",
              "      <td>...</td>\n",
              "      <td>7.0</td>\n",
              "      <td>13.0</td>\n",
              "      <td>57.0</td>\n",
              "      <td>1753.0</td>\n",
              "      <td>12691.5</td>\n",
              "      <td>0</td>\n",
              "      <td>13.57623</td>\n",
              "      <td>154.0</td>\n",
              "      <td>75</td>\n",
              "      <td>0</td>\n",
              "    </tr>\n",
              "    <tr>\n",
              "      <th>1</th>\n",
              "      <td>1</td>\n",
              "      <td>1350</td>\n",
              "      <td>2021</td>\n",
              "      <td>51</td>\n",
              "      <td>375</td>\n",
              "      <td>0</td>\n",
              "      <td>2</td>\n",
              "      <td>19</td>\n",
              "      <td>0</td>\n",
              "      <td>0</td>\n",
              "      <td>...</td>\n",
              "      <td>2.0</td>\n",
              "      <td>4.0</td>\n",
              "      <td>6.0</td>\n",
              "      <td>216.0</td>\n",
              "      <td>1454.0</td>\n",
              "      <td>0</td>\n",
              "      <td>13.57623</td>\n",
              "      <td>44.0</td>\n",
              "      <td>652</td>\n",
              "      <td>0</td>\n",
              "    </tr>\n",
              "    <tr>\n",
              "      <th>2</th>\n",
              "      <td>1</td>\n",
              "      <td>2415</td>\n",
              "      <td>2015</td>\n",
              "      <td>2</td>\n",
              "      <td>200</td>\n",
              "      <td>0</td>\n",
              "      <td>110</td>\n",
              "      <td>1</td>\n",
              "      <td>1</td>\n",
              "      <td>0</td>\n",
              "      <td>...</td>\n",
              "      <td>0.0</td>\n",
              "      <td>3.0</td>\n",
              "      <td>39.0</td>\n",
              "      <td>11261.0</td>\n",
              "      <td>41081.0</td>\n",
              "      <td>0</td>\n",
              "      <td>13.57623</td>\n",
              "      <td>72.6</td>\n",
              "      <td>412</td>\n",
              "      <td>1</td>\n",
              "    </tr>\n",
              "    <tr>\n",
              "      <th>3</th>\n",
              "      <td>2</td>\n",
              "      <td>7389</td>\n",
              "      <td>2010</td>\n",
              "      <td>2</td>\n",
              "      <td>200</td>\n",
              "      <td>0</td>\n",
              "      <td>8</td>\n",
              "      <td>3</td>\n",
              "      <td>0</td>\n",
              "      <td>0</td>\n",
              "      <td>...</td>\n",
              "      <td>7.0</td>\n",
              "      <td>13.0</td>\n",
              "      <td>57.0</td>\n",
              "      <td>1753.0</td>\n",
              "      <td>12691.5</td>\n",
              "      <td>0</td>\n",
              "      <td>13.57623</td>\n",
              "      <td>133.3</td>\n",
              "      <td>7</td>\n",
              "      <td>0</td>\n",
              "    </tr>\n",
              "    <tr>\n",
              "      <th>4</th>\n",
              "      <td>2</td>\n",
              "      <td>3954</td>\n",
              "      <td>2015</td>\n",
              "      <td>4</td>\n",
              "      <td>200</td>\n",
              "      <td>0</td>\n",
              "      <td>1</td>\n",
              "      <td>157</td>\n",
              "      <td>0</td>\n",
              "      <td>0</td>\n",
              "      <td>...</td>\n",
              "      <td>7.0</td>\n",
              "      <td>13.0</td>\n",
              "      <td>57.0</td>\n",
              "      <td>1753.0</td>\n",
              "      <td>12691.5</td>\n",
              "      <td>0</td>\n",
              "      <td>13.57623</td>\n",
              "      <td>133.1</td>\n",
              "      <td>128</td>\n",
              "      <td>0</td>\n",
              "    </tr>\n",
              "  </tbody>\n",
              "</table>\n",
              "<p>5 rows × 53 columns</p>\n",
              "</div>\n",
              "      <button class=\"colab-df-convert\" onclick=\"convertToInteractive('df-910b7d16-0be0-4be6-bf39-e1db53e98a18')\"\n",
              "              title=\"Convert this dataframe to an interactive table.\"\n",
              "              style=\"display:none;\">\n",
              "        \n",
              "  <svg xmlns=\"http://www.w3.org/2000/svg\" height=\"24px\"viewBox=\"0 0 24 24\"\n",
              "       width=\"24px\">\n",
              "    <path d=\"M0 0h24v24H0V0z\" fill=\"none\"/>\n",
              "    <path d=\"M18.56 5.44l.94 2.06.94-2.06 2.06-.94-2.06-.94-.94-2.06-.94 2.06-2.06.94zm-11 1L8.5 8.5l.94-2.06 2.06-.94-2.06-.94L8.5 2.5l-.94 2.06-2.06.94zm10 10l.94 2.06.94-2.06 2.06-.94-2.06-.94-.94-2.06-.94 2.06-2.06.94z\"/><path d=\"M17.41 7.96l-1.37-1.37c-.4-.4-.92-.59-1.43-.59-.52 0-1.04.2-1.43.59L10.3 9.45l-7.72 7.72c-.78.78-.78 2.05 0 2.83L4 21.41c.39.39.9.59 1.41.59.51 0 1.02-.2 1.41-.59l7.78-7.78 2.81-2.81c.8-.78.8-2.07 0-2.86zM5.41 20L4 18.59l7.72-7.72 1.47 1.35L5.41 20z\"/>\n",
              "  </svg>\n",
              "      </button>\n",
              "      \n",
              "  <style>\n",
              "    .colab-df-container {\n",
              "      display:flex;\n",
              "      flex-wrap:wrap;\n",
              "      gap: 12px;\n",
              "    }\n",
              "\n",
              "    .colab-df-convert {\n",
              "      background-color: #E8F0FE;\n",
              "      border: none;\n",
              "      border-radius: 50%;\n",
              "      cursor: pointer;\n",
              "      display: none;\n",
              "      fill: #1967D2;\n",
              "      height: 32px;\n",
              "      padding: 0 0 0 0;\n",
              "      width: 32px;\n",
              "    }\n",
              "\n",
              "    .colab-df-convert:hover {\n",
              "      background-color: #E2EBFA;\n",
              "      box-shadow: 0px 1px 2px rgba(60, 64, 67, 0.3), 0px 1px 3px 1px rgba(60, 64, 67, 0.15);\n",
              "      fill: #174EA6;\n",
              "    }\n",
              "\n",
              "    [theme=dark] .colab-df-convert {\n",
              "      background-color: #3B4455;\n",
              "      fill: #D2E3FC;\n",
              "    }\n",
              "\n",
              "    [theme=dark] .colab-df-convert:hover {\n",
              "      background-color: #434B5C;\n",
              "      box-shadow: 0px 1px 3px 1px rgba(0, 0, 0, 0.15);\n",
              "      filter: drop-shadow(0px 1px 2px rgba(0, 0, 0, 0.3));\n",
              "      fill: #FFFFFF;\n",
              "    }\n",
              "  </style>\n",
              "\n",
              "      <script>\n",
              "        const buttonEl =\n",
              "          document.querySelector('#df-910b7d16-0be0-4be6-bf39-e1db53e98a18 button.colab-df-convert');\n",
              "        buttonEl.style.display =\n",
              "          google.colab.kernel.accessAllowed ? 'block' : 'none';\n",
              "\n",
              "        async function convertToInteractive(key) {\n",
              "          const element = document.querySelector('#df-910b7d16-0be0-4be6-bf39-e1db53e98a18');\n",
              "          const dataTable =\n",
              "            await google.colab.kernel.invokeFunction('convertToInteractive',\n",
              "                                                     [key], {});\n",
              "          if (!dataTable) return;\n",
              "\n",
              "          const docLinkHtml = 'Like what you see? Visit the ' +\n",
              "            '<a target=\"_blank\" href=https://colab.research.google.com/notebooks/data_table.ipynb>data table notebook</a>'\n",
              "            + ' to learn more about interactive tables.';\n",
              "          element.innerHTML = '';\n",
              "          dataTable['output_type'] = 'display_data';\n",
              "          await google.colab.output.renderOutput(dataTable, element);\n",
              "          const docLink = document.createElement('div');\n",
              "          docLink.innerHTML = docLinkHtml;\n",
              "          element.appendChild(docLink);\n",
              "        }\n",
              "      </script>\n",
              "    </div>\n",
              "  </div>\n",
              "  "
            ]
          },
          "metadata": {},
          "execution_count": 17
        }
      ]
    },
    {
      "cell_type": "code",
      "source": [
        "real_train[\"YEAR\"].value_counts()"
      ],
      "metadata": {
        "colab": {
          "base_uri": "https://localhost:8080/"
        },
        "id": "1DEawhaL34Ge",
        "outputId": "4239e4e1-0eaa-4ddc-82a9-ed7ab2726c1d"
      },
      "execution_count": null,
      "outputs": [
        {
          "output_type": "execute_result",
          "data": {
            "text/plain": [
              "2008    1419\n",
              "2014    1400\n",
              "2013    1189\n",
              "2015    1156\n",
              "2011    1146\n",
              "2012    1073\n",
              "2009     949\n",
              "2016     942\n",
              "2017     896\n",
              "2018     878\n",
              "2010     866\n",
              "2019     649\n",
              "2021     477\n",
              "2020     373\n",
              "2022     354\n",
              "2007     328\n",
              "Name: YEAR, dtype: int64"
            ]
          },
          "metadata": {},
          "execution_count": 18
        }
      ]
    },
    {
      "cell_type": "code",
      "source": [
        "#is year important? \n",
        "sns.heatmap(real_train.corr(), cmap=\"Accent\")"
      ],
      "metadata": {
        "colab": {
          "base_uri": "https://localhost:8080/",
          "height": 402
        },
        "id": "skJg85Mv34Dr",
        "outputId": "c52ec1d7-2c31-46e1-a595-ad4d1f216789"
      },
      "execution_count": null,
      "outputs": [
        {
          "output_type": "execute_result",
          "data": {
            "text/plain": [
              "<matplotlib.axes._subplots.AxesSubplot at 0x7f1622f168d0>"
            ]
          },
          "metadata": {},
          "execution_count": 19
        },
        {
          "output_type": "display_data",
          "data": {
            "text/plain": [
              "<Figure size 432x288 with 2 Axes>"
            ],
            "image/png": "[encoded data removed]"
          },
          "metadata": {
            "needs_background": "light"
          }
        }
      ]
    },
    {
      "cell_type": "code",
      "source": [
        "for i in real_train.columns:\n",
        "  year_coef = np.corrcoef(real_train[\"YEAR\"], real_train[i])[0, 1]\n",
        "  if abs(year_coef)>0.1: \n",
        "    print(\"YEAR /\", i, \"간 corr: \", year_coef)"
      ],
      "metadata": {
        "colab": {
          "base_uri": "https://localhost:8080/"
        },
        "id": "szAxIjEZ4WM6",
        "outputId": "2af96591-afd6-4df3-dded-59fc51d83785"
      },
      "execution_count": null,
      "outputs": [
        {
          "output_type": "stream",
          "name": "stdout",
          "text": [
            "YEAR / ANONYMOUS_1 간 corr:  0.10654556184441208\n",
            "YEAR / YEAR 간 corr:  1.0\n",
            "YEAR / ANONYMOUS_2 간 corr:  0.13819862552773787\n",
            "YEAR / AG 간 corr:  -0.1291240066260261\n",
            "YEAR / CU 간 corr:  -0.13759315060624594\n",
            "YEAR / FNOX 간 corr:  -0.1341722186781992\n",
            "YEAR / FOXID 간 corr:  -0.12408413469995706\n",
            "YEAR / FTBN 간 corr:  -0.16380712281789836\n",
            "YEAR / P 간 corr:  -0.14367534457659714\n",
            "YEAR / S 간 corr:  -0.14108442314423023\n"
          ]
        }
      ]
    },
    {
      "cell_type": "code",
      "source": [
        "#year 의 설명력 낮아서 지워도 무방할 것 같습니다. \n",
        "\n"
      ],
      "metadata": {
        "id": "J1vt8TpU4WLI"
      },
      "execution_count": null,
      "outputs": []
    },
    {
      "cell_type": "code",
      "source": [
        "real_train.head()"
      ],
      "metadata": {
        "id": "Zq8cBOUQ4WIu",
        "colab": {
          "base_uri": "https://localhost:8080/",
          "height": 300
        },
        "outputId": "2e58e473-4f79-4911-e560-612d2abb1731"
      },
      "execution_count": null,
      "outputs": [
        {
          "output_type": "execute_result",
          "data": {
            "text/plain": [
              "   COMPONENT_ARBITRARY  ANONYMOUS_1  YEAR  SAMPLE_TRANSFER_DAY  ANONYMOUS_2  \\\n",
              "0                    2         1486  2011                    7          200   \n",
              "1                    1         1350  2021                   51          375   \n",
              "2                    1         2415  2015                    2          200   \n",
              "3                    2         7389  2010                    2          200   \n",
              "4                    2         3954  2015                    4          200   \n",
              "\n",
              "   AG   AL    B  BA  BE  ...  U25   U20   U14       U6       U4  V      V100  \\\n",
              "0   0    3   93   0   0  ...  7.0  13.0  57.0   1753.0  12691.5  0  13.57623   \n",
              "1   0    2   19   0   0  ...  2.0   4.0   6.0    216.0   1454.0  0  13.57623   \n",
              "2   0  110    1   1   0  ...  0.0   3.0  39.0  11261.0  41081.0  0  13.57623   \n",
              "3   0    8    3   0   0  ...  7.0  13.0  57.0   1753.0  12691.5  0  13.57623   \n",
              "4   0    1  157   0   0  ...  7.0  13.0  57.0   1753.0  12691.5  0  13.57623   \n",
              "\n",
              "     V40   ZN  Y_LABEL  \n",
              "0  154.0   75        0  \n",
              "1   44.0  652        0  \n",
              "2   72.6  412        1  \n",
              "3  133.3    7        0  \n",
              "4  133.1  128        0  \n",
              "\n",
              "[5 rows x 53 columns]"
            ],
            "text/html": [
              "\n",
              "  <div id=\"df-c7739996-613f-4dcf-a64a-92a5e50bf4c9\">\n",
              "    <div class=\"colab-df-container\">\n",
              "      <div>\n",
              "<style scoped>\n",
              "    .dataframe tbody tr th:only-of-type {\n",
              "        vertical-align: middle;\n",
              "    }\n",
              "\n",
              "    .dataframe tbody tr th {\n",
              "        vertical-align: top;\n",
              "    }\n",
              "\n",
              "    .dataframe thead th {\n",
              "        text-align: right;\n",
              "    }\n",
              "</style>\n",
              "<table border=\"1\" class=\"dataframe\">\n",
              "  <thead>\n",
              "    <tr style=\"text-align: right;\">\n",
              "      <th></th>\n",
              "      <th>COMPONENT_ARBITRARY</th>\n",
              "      <th>ANONYMOUS_1</th>\n",
              "      <th>YEAR</th>\n",
              "      <th>SAMPLE_TRANSFER_DAY</th>\n",
              "      <th>ANONYMOUS_2</th>\n",
              "      <th>AG</th>\n",
              "      <th>AL</th>\n",
              "      <th>B</th>\n",
              "      <th>BA</th>\n",
              "      <th>BE</th>\n",
              "      <th>...</th>\n",
              "      <th>U25</th>\n",
              "      <th>U20</th>\n",
              "      <th>U14</th>\n",
              "      <th>U6</th>\n",
              "      <th>U4</th>\n",
              "      <th>V</th>\n",
              "      <th>V100</th>\n",
              "      <th>V40</th>\n",
              "      <th>ZN</th>\n",
              "      <th>Y_LABEL</th>\n",
              "    </tr>\n",
              "  </thead>\n",
              "  <tbody>\n",
              "    <tr>\n",
              "      <th>0</th>\n",
              "      <td>2</td>\n",
              "      <td>1486</td>\n",
              "      <td>2011</td>\n",
              "      <td>7</td>\n",
              "      <td>200</td>\n",
              "      <td>0</td>\n",
              "      <td>3</td>\n",
              "      <td>93</td>\n",
              "      <td>0</td>\n",
              "      <td>0</td>\n",
              "      <td>...</td>\n",
              "      <td>7.0</td>\n",
              "      <td>13.0</td>\n",
              "      <td>57.0</td>\n",
              "      <td>1753.0</td>\n",
              "      <td>12691.5</td>\n",
              "      <td>0</td>\n",
              "      <td>13.57623</td>\n",
              "      <td>154.0</td>\n",
              "      <td>75</td>\n",
              "      <td>0</td>\n",
              "    </tr>\n",
              "    <tr>\n",
              "      <th>1</th>\n",
              "      <td>1</td>\n",
              "      <td>1350</td>\n",
              "      <td>2021</td>\n",
              "      <td>51</td>\n",
              "      <td>375</td>\n",
              "      <td>0</td>\n",
              "      <td>2</td>\n",
              "      <td>19</td>\n",
              "      <td>0</td>\n",
              "      <td>0</td>\n",
              "      <td>...</td>\n",
              "      <td>2.0</td>\n",
              "      <td>4.0</td>\n",
              "      <td>6.0</td>\n",
              "      <td>216.0</td>\n",
              "      <td>1454.0</td>\n",
              "      <td>0</td>\n",
              "      <td>13.57623</td>\n",
              "      <td>44.0</td>\n",
              "      <td>652</td>\n",
              "      <td>0</td>\n",
              "    </tr>\n",
              "    <tr>\n",
              "      <th>2</th>\n",
              "      <td>1</td>\n",
              "      <td>2415</td>\n",
              "      <td>2015</td>\n",
              "      <td>2</td>\n",
              "      <td>200</td>\n",
              "      <td>0</td>\n",
              "      <td>110</td>\n",
              "      <td>1</td>\n",
              "      <td>1</td>\n",
              "      <td>0</td>\n",
              "      <td>...</td>\n",
              "      <td>0.0</td>\n",
              "      <td>3.0</td>\n",
              "      <td>39.0</td>\n",
              "      <td>11261.0</td>\n",
              "      <td>41081.0</td>\n",
              "      <td>0</td>\n",
              "      <td>13.57623</td>\n",
              "      <td>72.6</td>\n",
              "      <td>412</td>\n",
              "      <td>1</td>\n",
              "    </tr>\n",
              "    <tr>\n",
              "      <th>3</th>\n",
              "      <td>2</td>\n",
              "      <td>7389</td>\n",
              "      <td>2010</td>\n",
              "      <td>2</td>\n",
              "      <td>200</td>\n",
              "      <td>0</td>\n",
              "      <td>8</td>\n",
              "      <td>3</td>\n",
              "      <td>0</td>\n",
              "      <td>0</td>\n",
              "      <td>...</td>\n",
              "      <td>7.0</td>\n",
              "      <td>13.0</td>\n",
              "      <td>57.0</td>\n",
              "      <td>1753.0</td>\n",
              "      <td>12691.5</td>\n",
              "      <td>0</td>\n",
              "      <td>13.57623</td>\n",
              "      <td>133.3</td>\n",
              "      <td>7</td>\n",
              "      <td>0</td>\n",
              "    </tr>\n",
              "    <tr>\n",
              "      <th>4</th>\n",
              "      <td>2</td>\n",
              "      <td>3954</td>\n",
              "      <td>2015</td>\n",
              "      <td>4</td>\n",
              "      <td>200</td>\n",
              "      <td>0</td>\n",
              "      <td>1</td>\n",
              "      <td>157</td>\n",
              "      <td>0</td>\n",
              "      <td>0</td>\n",
              "      <td>...</td>\n",
              "      <td>7.0</td>\n",
              "      <td>13.0</td>\n",
              "      <td>57.0</td>\n",
              "      <td>1753.0</td>\n",
              "      <td>12691.5</td>\n",
              "      <td>0</td>\n",
              "      <td>13.57623</td>\n",
              "      <td>133.1</td>\n",
              "      <td>128</td>\n",
              "      <td>0</td>\n",
              "    </tr>\n",
              "  </tbody>\n",
              "</table>\n",
              "<p>5 rows × 53 columns</p>\n",
              "</div>\n",
              "      <button class=\"colab-df-convert\" onclick=\"convertToInteractive('df-c7739996-613f-4dcf-a64a-92a5e50bf4c9')\"\n",
              "              title=\"Convert this dataframe to an interactive table.\"\n",
              "              style=\"display:none;\">\n",
              "        \n",
              "  <svg xmlns=\"http://www.w3.org/2000/svg\" height=\"24px\"viewBox=\"0 0 24 24\"\n",
              "       width=\"24px\">\n",
              "    <path d=\"M0 0h24v24H0V0z\" fill=\"none\"/>\n",
              "    <path d=\"M18.56 5.44l.94 2.06.94-2.06 2.06-.94-2.06-.94-.94-2.06-.94 2.06-2.06.94zm-11 1L8.5 8.5l.94-2.06 2.06-.94-2.06-.94L8.5 2.5l-.94 2.06-2.06.94zm10 10l.94 2.06.94-2.06 2.06-.94-2.06-.94-.94-2.06-.94 2.06-2.06.94z\"/><path d=\"M17.41 7.96l-1.37-1.37c-.4-.4-.92-.59-1.43-.59-.52 0-1.04.2-1.43.59L10.3 9.45l-7.72 7.72c-.78.78-.78 2.05 0 2.83L4 21.41c.39.39.9.59 1.41.59.51 0 1.02-.2 1.41-.59l7.78-7.78 2.81-2.81c.8-.78.8-2.07 0-2.86zM5.41 20L4 18.59l7.72-7.72 1.47 1.35L5.41 20z\"/>\n",
              "  </svg>\n",
              "      </button>\n",
              "      \n",
              "  <style>\n",
              "    .colab-df-container {\n",
              "      display:flex;\n",
              "      flex-wrap:wrap;\n",
              "      gap: 12px;\n",
              "    }\n",
              "\n",
              "    .colab-df-convert {\n",
              "      background-color: #E8F0FE;\n",
              "      border: none;\n",
              "      border-radius: 50%;\n",
              "      cursor: pointer;\n",
              "      display: none;\n",
              "      fill: #1967D2;\n",
              "      height: 32px;\n",
              "      padding: 0 0 0 0;\n",
              "      width: 32px;\n",
              "    }\n",
              "\n",
              "    .colab-df-convert:hover {\n",
              "      background-color: #E2EBFA;\n",
              "      box-shadow: 0px 1px 2px rgba(60, 64, 67, 0.3), 0px 1px 3px 1px rgba(60, 64, 67, 0.15);\n",
              "      fill: #174EA6;\n",
              "    }\n",
              "\n",
              "    [theme=dark] .colab-df-convert {\n",
              "      background-color: #3B4455;\n",
              "      fill: #D2E3FC;\n",
              "    }\n",
              "\n",
              "    [theme=dark] .colab-df-convert:hover {\n",
              "      background-color: #434B5C;\n",
              "      box-shadow: 0px 1px 3px 1px rgba(0, 0, 0, 0.15);\n",
              "      filter: drop-shadow(0px 1px 2px rgba(0, 0, 0, 0.3));\n",
              "      fill: #FFFFFF;\n",
              "    }\n",
              "  </style>\n",
              "\n",
              "      <script>\n",
              "        const buttonEl =\n",
              "          document.querySelector('#df-c7739996-613f-4dcf-a64a-92a5e50bf4c9 button.colab-df-convert');\n",
              "        buttonEl.style.display =\n",
              "          google.colab.kernel.accessAllowed ? 'block' : 'none';\n",
              "\n",
              "        async function convertToInteractive(key) {\n",
              "          const element = document.querySelector('#df-c7739996-613f-4dcf-a64a-92a5e50bf4c9');\n",
              "          const dataTable =\n",
              "            await google.colab.kernel.invokeFunction('convertToInteractive',\n",
              "                                                     [key], {});\n",
              "          if (!dataTable) return;\n",
              "\n",
              "          const docLinkHtml = 'Like what you see? Visit the ' +\n",
              "            '<a target=\"_blank\" href=https://colab.research.google.com/notebooks/data_table.ipynb>data table notebook</a>'\n",
              "            + ' to learn more about interactive tables.';\n",
              "          element.innerHTML = '';\n",
              "          dataTable['output_type'] = 'display_data';\n",
              "          await google.colab.output.renderOutput(dataTable, element);\n",
              "          const docLink = document.createElement('div');\n",
              "          docLink.innerHTML = docLinkHtml;\n",
              "          element.appendChild(docLink);\n",
              "        }\n",
              "      </script>\n",
              "    </div>\n",
              "  </div>\n",
              "  "
            ]
          },
          "metadata": {},
          "execution_count": 22
        }
      ]
    },
    {
      "cell_type": "markdown",
      "source": [
        "# 데이터 간 관계 파악 (EDA seq2)\n"
      ],
      "metadata": {
        "id": "ypNGXEhlt_fE"
      }
    },
    {
      "cell_type": "code",
      "source": [
        "corr_df = real_train.corr()\n",
        "\n",
        "#동일 코드를 대충 5번 해서 확인하기\n",
        "for col in corr_df.columns[:20]:\n",
        "  spec_corr = corr_df[col].apply(lambda x: np.abs(x))\n",
        "  spec_corr = spec_corr.apply(lambda x: np.round(x, 3))\n",
        "  spec_corr.sort_values(ascending=False, inplace=True)\n",
        "\n",
        "  #print(spec_corr[spec_corr>0.5], spec_corr[spec_corr>0.5].index)\n",
        "  if len(corr_df[col][spec_corr[spec_corr>0.5].index][1:])!=0:\n",
        "    print(corr_df[col][spec_corr[spec_corr>0.5].index][1:], \"\\n\")\n",
        "  #print(spec_corr[1], spec_corr.index[1])\n",
        "  \n"
      ],
      "metadata": {
        "colab": {
          "base_uri": "https://localhost:8080/"
        },
        "id": "fn1r2iXquEDd",
        "outputId": "d8c9a92a-a052-4224-ea0b-fcf662906806"
      },
      "execution_count": null,
      "outputs": [
        {
          "output_type": "stream",
          "name": "stdout",
          "text": [
            "ZN             -0.542198\n",
            "FOPTIMETHGLY   -0.516068\n",
            "Name: COMPONENT_ARBITRARY, dtype: float64 \n",
            "\n",
            "FE    0.536765\n",
            "Name: CO, dtype: float64 \n",
            "\n",
            "SOOTPERCENTAGE    0.514388\n",
            "Name: FH2O, dtype: float64 \n",
            "\n",
            "FOXID             0.806131\n",
            "FSO4              0.792636\n",
            "SOOTPERCENTAGE    0.557262\n",
            "Name: FNOX, dtype: float64 \n",
            "\n",
            "COMPONENT_ARBITRARY   -0.516068\n",
            "Name: FOPTIMETHGLY, dtype: float64 \n",
            "\n",
            "FNOX    0.806131\n",
            "FSO4    0.763552\n",
            "MO      0.541772\n",
            "Name: FOXID, dtype: float64 \n",
            "\n",
            "FNOX              0.792636\n",
            "FOXID             0.763552\n",
            "SOOTPERCENTAGE    0.678053\n",
            "Name: FSO4, dtype: float64 \n",
            "\n"
          ]
        }
      ]
    },
    {
      "cell_type": "code",
      "source": [
        "for col in corr_df.columns[20:40]:\n",
        "  spec_corr = corr_df[col].apply(lambda x: np.abs(x))\n",
        "  spec_corr = spec_corr.apply(lambda x: np.round(x, 3))\n",
        "  spec_corr.sort_values(ascending=False, inplace=True)\n",
        "\n",
        "  #print(spec_corr[spec_corr>0.5], spec_corr[spec_corr>0.5].index)\n",
        "  if len(corr_df[col][spec_corr[spec_corr>0.5].index][1:])!=0:\n",
        "    print(corr_df[col][spec_corr[spec_corr>0.5].index][1:], \"\\n\")\n",
        "  #print(spec_corr[1], spec_corr.index[1])"
      ],
      "metadata": {
        "colab": {
          "base_uri": "https://localhost:8080/"
        },
        "id": "6l2aUrMpuEBZ",
        "outputId": "f1f8d886-cc36-4f68-b19c-a14ac8c203be"
      },
      "execution_count": null,
      "outputs": [
        {
          "output_type": "stream",
          "name": "stdout",
          "text": [
            "SI    0.649188\n",
            "MN    0.622415\n",
            "NI    0.583322\n",
            "CO    0.536765\n",
            "Name: FE, dtype: float64 \n",
            "\n",
            "SI    0.561308\n",
            "TI    0.506896\n",
            "Name: K, dtype: float64 \n",
            "\n",
            "FE    0.622415\n",
            "TI    0.585042\n",
            "SI    0.554424\n",
            "NI    0.527618\n",
            "Name: MN, dtype: float64 \n",
            "\n",
            "FOXID    0.541772\n",
            "Name: MO, dtype: float64 \n",
            "\n",
            "SI    0.630178\n",
            "FE    0.583322\n",
            "MN    0.527618\n",
            "Name: NI, dtype: float64 \n",
            "\n",
            "ZN    -0.692957\n",
            "V40    0.606647\n",
            "Name: S, dtype: float64 \n",
            "\n",
            "FE    0.649188\n",
            "NI    0.630178\n",
            "TI    0.605636\n",
            "K     0.561308\n",
            "MN    0.554424\n",
            "Name: SI, dtype: float64 \n",
            "\n",
            "FSO4    0.678053\n",
            "FNOX    0.557262\n",
            "FH2O    0.514388\n",
            "Name: SOOTPERCENTAGE, dtype: float64 \n",
            "\n",
            "V     0.677756\n",
            "SI    0.605636\n",
            "MN    0.585042\n",
            "K     0.506896\n",
            "Name: TI, dtype: float64 \n",
            "\n"
          ]
        }
      ]
    },
    {
      "cell_type": "code",
      "source": [
        "for col in corr_df.columns[40:]:\n",
        "  spec_corr = corr_df[col].apply(lambda x: np.abs(x))\n",
        "  spec_corr = spec_corr.apply(lambda x: np.round(x, 3))\n",
        "  spec_corr.sort_values(ascending=False, inplace=True)\n",
        "\n",
        "  #print(spec_corr[spec_corr>0.5], spec_corr[spec_corr>0.5].index)\n",
        "  if len(corr_df[col][spec_corr[spec_corr>0.5].index][1:])!=0:\n",
        "    print(corr_df[col][spec_corr[spec_corr>0.5].index][1:], \"\\n\")\n",
        "  else:\n",
        "    pass\n",
        "  #print(spec_corr[1], spec_corr.index[1])"
      ],
      "metadata": {
        "colab": {
          "base_uri": "https://localhost:8080/"
        },
        "id": "wbwXbR58uD_H",
        "outputId": "0d627388-bc36-4aff-ed90-f74cd0190621"
      },
      "execution_count": null,
      "outputs": [
        {
          "output_type": "stream",
          "name": "stdout",
          "text": [
            "U75    0.875127\n",
            "Name: U100, dtype: float64 \n",
            "\n",
            "U100    0.875127\n",
            "Name: U75, dtype: float64 \n",
            "\n",
            "U25    0.528807\n",
            "U20    0.510142\n",
            "Name: U50, dtype: float64 \n",
            "\n",
            "U20    0.907602\n",
            "U14    0.754829\n",
            "U50    0.528807\n",
            "Name: U25, dtype: float64 \n",
            "\n",
            "U25    0.907602\n",
            "U14    0.847609\n",
            "U50    0.510142\n",
            "Name: U20, dtype: float64 \n",
            "\n",
            "U20    0.847609\n",
            "U25    0.754829\n",
            "U6     0.661679\n",
            "Name: U14, dtype: float64 \n",
            "\n",
            "U4     0.823573\n",
            "U14    0.661679\n",
            "Name: U6, dtype: float64 \n",
            "\n",
            "U6    0.823573\n",
            "Name: U4, dtype: float64 \n",
            "\n",
            "TI    0.677756\n",
            "Name: V, dtype: float64 \n",
            "\n",
            "S    0.606647\n",
            "Name: V40, dtype: float64 \n",
            "\n",
            "S                     -0.692957\n",
            "COMPONENT_ARBITRARY   -0.542198\n",
            "Name: ZN, dtype: float64 \n",
            "\n"
          ]
        }
      ]
    },
    {
      "cell_type": "code",
      "source": [],
      "metadata": {
        "id": "Um1so_20uD8-"
      },
      "execution_count": null,
      "outputs": []
    },
    {
      "cell_type": "code",
      "source": [],
      "metadata": {
        "id": "KHCLy8xbuD34"
      },
      "execution_count": null,
      "outputs": []
    },
    {
      "cell_type": "code",
      "source": [],
      "metadata": {
        "id": "XpdGlTtguDxT"
      },
      "execution_count": null,
      "outputs": []
    },
    {
      "cell_type": "markdown",
      "source": [
        "# 데이터 스케일링\n",
        "난 아직 robust scaling 하지 않았어"
      ],
      "metadata": {
        "id": "YE2H5XyoFhyF"
      }
    },
    {
      "cell_type": "code",
      "source": [
        "all_X = real_train.drop([\"Y_LABEL\", \"YEAR\"], axis=1)\n",
        "all_y = real_train[\"Y_LABEL\"]\n",
        "#all_X[\"YEAR\"]=0\n",
        "\n"
      ],
      "metadata": {
        "id": "bjY8QELi4WF-"
      },
      "execution_count": null,
      "outputs": []
    },
    {
      "cell_type": "code",
      "source": [
        "#component arbitrary 제외하고 전부 \n",
        "\n",
        "for col in all_X.columns:\n",
        "  if col!=\"COMPONENT_ARBITRARY\":\n",
        "    scaler=StandardScaler()\n",
        "    all_X[col] = scaler.fit_transform(all_X[[col]])\n",
        "\n",
        "print(all_X.head())"
      ],
      "metadata": {
        "colab": {
          "base_uri": "https://localhost:8080/"
        },
        "id": "tbVncem6FW2B",
        "outputId": "44c309bf-6a75-4a4c-cfeb-72a50fe38219"
      },
      "execution_count": null,
      "outputs": [
        {
          "output_type": "stream",
          "name": "stdout",
          "text": [
            "   COMPONENT_ARBITRARY  ANONYMOUS_1  SAMPLE_TRANSFER_DAY  ANONYMOUS_2  \\\n",
            "0                    2    -0.393763            -0.051413    -0.340760   \n",
            "1                    1    -0.426022             3.715319    -0.022576   \n",
            "2                    1    -0.173409            -0.479451    -0.340760   \n",
            "3                    2     1.006399            -0.479451    -0.340760   \n",
            "4                    2     0.191634            -0.308236    -0.340760   \n",
            "\n",
            "         AG        AL         B        BA        BE        CA  ...       U50  \\\n",
            "0 -0.150214 -0.111628  0.281646 -0.238453 -0.041491  1.141962  ... -0.056904   \n",
            "1 -0.150214 -0.123127 -0.437686 -0.238453 -0.041491  1.087302  ... -0.056904   \n",
            "2 -0.150214  1.118753 -0.612659  0.105735 -0.041491 -0.910846  ... -0.123693   \n",
            "3 -0.150214 -0.054133 -0.593217 -0.238453 -0.041491  0.400333  ... -0.056904   \n",
            "4 -0.150214 -0.134626  0.903771 -0.238453 -0.041491 -0.874406  ... -0.056904   \n",
            "\n",
            "        U25       U20       U14        U6        U4        V  V100       V40  \\\n",
            "0 -0.093028 -0.092629 -0.100538 -0.091369 -0.064182 -0.10655   0.0  0.899892   \n",
            "1 -0.216802 -0.210446 -0.287063 -0.341540 -0.778002 -0.10655   0.0 -1.317376   \n",
            "2 -0.266311 -0.223537 -0.166371  1.456213  1.739155 -0.10655   0.0 -0.740886   \n",
            "3 -0.093028 -0.092629 -0.100538 -0.091369 -0.064182 -0.10655   0.0  0.482642   \n",
            "4 -0.093028 -0.092629 -0.100538 -0.091369 -0.064182 -0.10655   0.0  0.478611   \n",
            "\n",
            "         ZN  \n",
            "0 -0.966002  \n",
            "1  0.119147  \n",
            "2 -0.332215  \n",
            "3 -1.093888  \n",
            "4 -0.866326  \n",
            "\n",
            "[5 rows x 51 columns]\n"
          ]
        }
      ]
    },
    {
      "cell_type": "code",
      "source": [
        "train_X, val_X, train_y, val_y = train_test_split(all_X, all_y, test_size=0.2, random_state=156, stratify=all_y)\n",
        "\n",
        "\n",
        "print(train_X.shape, val_X.shape, train_y.shape, val_y.shape)"
      ],
      "metadata": {
        "colab": {
          "base_uri": "https://localhost:8080/"
        },
        "id": "zzb4nlbBFWzb",
        "outputId": "8e9b61ce-ad7c-4a5a-f247-beab86724df8"
      },
      "execution_count": null,
      "outputs": [
        {
          "output_type": "stream",
          "name": "stdout",
          "text": [
            "(11276, 51) (2819, 51) (11276,) (2819,)\n"
          ]
        }
      ]
    },
    {
      "cell_type": "markdown",
      "source": [
        "# Vanilla 를 위한 모델 준비\n"
      ],
      "metadata": {
        "id": "iLuUvb3n4ha7"
      }
    },
    {
      "cell_type": "code",
      "source": [
        "#scaling 안 하고 작업해보는 것이 우선이 되면 좋을 것 같아요. 그거 해보고 안되면 scaling 해보고.. pseudo labelling 도 해보자.\n",
        "\n",
        "#11월 22일 verison. scaling 이 꼭 필요할 것 같습니다. \n",
        "#basic paramerters. furthrer investigation needed.\n",
        "CFG = {\n",
        "    'EPOCHS': 30,\n",
        "    'LEARNING_RATE':1e-2,\n",
        "    'BATCH_SIZE':254,\n",
        "    'SEED':41\n",
        "}"
      ],
      "metadata": {
        "id": "1LdsI0-44kwG"
      },
      "execution_count": null,
      "outputs": []
    },
    {
      "cell_type": "code",
      "source": [],
      "metadata": {
        "id": "JYaW8vobFWwu"
      },
      "execution_count": null,
      "outputs": []
    },
    {
      "cell_type": "code",
      "source": [
        "class CustomDataset(Dataset):\n",
        "    def __init__(self, data_X, data_y, distillation=False):\n",
        "        super(CustomDataset, self).__init__()\n",
        "        self.data_X = data_X\n",
        "        self.data_y = data_y\n",
        "        self.distillation = distillation\n",
        "        \n",
        "    def __len__(self):\n",
        "        return len(self.data_X)\n",
        "    \n",
        "    def __getitem__(self, index):\n",
        "        if self.distillation:\n",
        "            # 지식 증류 학습 시\n",
        "            teacher_X = torch.Tensor(self.data_X.iloc[index])\n",
        "            student_X = torch.Tensor(self.data_X[test_col].iloc[index]) #보수부분. student는 19개 정도의 column만 갖고 있음\n",
        "            y = self.data_y.values[index]\n",
        "            return teacher_X, student_X, y\n",
        "        else:\n",
        "            if self.data_y is None:\n",
        "                test_X = torch.Tensor(self.data_X.iloc[index])\n",
        "                return test_X\n",
        "            else:\n",
        "                teacher_X = torch.Tensor(self.data_X.iloc[index])\n",
        "                y = self.data_y.values[index]\n",
        "                return teacher_X, y"
      ],
      "metadata": {
        "id": "EBLwyNCo4kuN"
      },
      "execution_count": null,
      "outputs": []
    },
    {
      "cell_type": "code",
      "source": [
        "train_dataset = CustomDataset(train_X, train_y, False)\n",
        "val_dataset = CustomDataset(val_X, val_y, False)\n",
        "\n",
        "train_loader = DataLoader(train_dataset, batch_size = CFG['BATCH_SIZE'], shuffle=True)\n",
        "val_loader = DataLoader(val_dataset, batch_size = CFG['BATCH_SIZE'], shuffle=False)\n"
      ],
      "metadata": {
        "id": "vp3W0P-c4ksL"
      },
      "execution_count": null,
      "outputs": []
    },
    {
      "cell_type": "code",
      "source": [
        "print(train_dataset.__len__())\n",
        "\n",
        "print(\"\\n\", train_dataset.__getitem__(2))"
      ],
      "metadata": {
        "colab": {
          "base_uri": "https://localhost:8080/"
        },
        "id": "w5GXjQNn4kqL",
        "outputId": "9ae7c058-074b-48c5-9b90-49c88fdb1ab2"
      },
      "execution_count": null,
      "outputs": [
        {
          "output_type": "stream",
          "name": "stdout",
          "text": [
            "11276\n",
            "\n",
            " (tensor([ 1.0000e+00, -4.3219e-01, -3.0824e-01, -3.4076e-01, -1.5021e-01,\n",
            "         1.8734e-01,  4.8578e-01, -2.3845e-01, -4.1491e-02, -8.6698e-01,\n",
            "        -7.0651e-02, -8.9633e-02, -1.1539e-01,  1.3992e+00, -6.6576e-02,\n",
            "        -3.8974e-02, -3.6376e-01, -7.5109e-02, -4.6059e-02,  2.5249e-15,\n",
            "        -2.6289e-01, -1.0666e-01, -4.1588e-02, -1.6410e-01, -1.1076e-01,\n",
            "        -2.5298e-01, -2.5046e-01, -4.0100e-01, -2.2029e-01, -1.9180e-01,\n",
            "        -8.7472e-01, -6.3901e-02, -2.5205e-01, -1.1116e+00, -1.7473e-01,\n",
            "        -1.6413e-01, -2.5244e-01, -1.6258e-01, -1.0264e-01, -7.8798e-02,\n",
            "        -1.0124e-01, -1.2369e-01, -1.4254e-01,  1.1682e-01,  2.1765e-01,\n",
            "         1.0937e+00,  5.1377e-01, -1.0655e-01,  0.0000e+00, -1.2750e+00,\n",
            "        -6.1398e-02]), 0)\n"
          ]
        }
      ]
    },
    {
      "cell_type": "code",
      "source": [],
      "metadata": {
        "id": "HENGLW5r63Rs"
      },
      "execution_count": null,
      "outputs": []
    },
    {
      "cell_type": "markdown",
      "source": [
        "# Vanilla teacher model 작성\n"
      ],
      "metadata": {
        "id": "wdf9OXKw5GVR"
      }
    },
    {
      "cell_type": "code",
      "source": [
        "class Teacher(nn.Module):\n",
        "    def __init__(self):\n",
        "        super(Teacher, self).__init__()\n",
        "        self.classifier = nn.Sequential(\n",
        "            nn.Linear(in_features=51, out_features=254),\n",
        "            nn.BatchNorm1d(254),\n",
        "            nn.LeakyReLU(),\n",
        "            nn.Linear(in_features=254, out_features=1016),\n",
        "            nn.BatchNorm1d(1016),\n",
        "            nn.LeakyReLU(),\n",
        "            nn.Linear(in_features=1016, out_features=254),\n",
        "            nn.BatchNorm1d(254),\n",
        "            nn.LeakyReLU(),\n",
        "            nn.Linear(in_features=254, out_features=1),\n",
        "            nn.Sigmoid()\n",
        "        )\n",
        "        \n",
        "    def forward(self, x):\n",
        "        output = self.classifier(x)\n",
        "        return output"
      ],
      "metadata": {
        "id": "O1jTpmiX49-2"
      },
      "execution_count": null,
      "outputs": []
    },
    {
      "cell_type": "code",
      "source": [
        "def train(model, optimizer, train_loader, val_loader, scheduler, device):\n",
        "    model.to(device)\n",
        "\n",
        "    best_score = 0\n",
        "    best_model = None\n",
        "    criterion = nn.BCELoss().to(device)\n",
        "\n",
        "    for epoch in range(CFG[\"EPOCHS\"]):\n",
        "        train_loss = []\n",
        "  \n",
        "        model.train()\n",
        "        for X, y in tqdm(train_loader):\n",
        "            X = X.float().to(device)\n",
        "            y = y.float().to(device)\n",
        "            \n",
        "            optimizer.zero_grad()\n",
        "            \n",
        "            y_pred = model(X)\n",
        "            \n",
        "            loss = criterion(y_pred, y.reshape(-1, 1))\n",
        "            loss.backward()\n",
        "            \n",
        "            optimizer.step()\n",
        "\n",
        "            train_loss.append(loss.item())\n",
        "\n",
        "        val_loss, val_score = validation_teacher(model, val_loader, criterion, device)\n",
        "        print(f'Epoch [{epoch}], Train Loss : [{np.mean(train_loss) :.5f}] Val Loss : [{np.mean(val_loss) :.5f}] Val F1 Score : [{val_score:.5f}]')\n",
        "\n",
        "        if scheduler is not None:\n",
        "            scheduler.step(val_score)\n",
        "            \n",
        "        if best_score < val_score:\n",
        "            best_model = model\n",
        "            best_score = val_score\n",
        "        \n",
        "    return best_model "
      ],
      "metadata": {
        "id": "-euIfcKs498k"
      },
      "execution_count": null,
      "outputs": []
    },
    {
      "cell_type": "code",
      "source": [
        "def competition_metric(true, pred): #f1_score로 점수 계산\n",
        "    return f1_score(true, pred, average=\"macro\")\n",
        "\n",
        "def validation_teacher(model, val_loader, criterion, device): \n",
        "    model.eval() #이제 validation data 쪽으로 테스팅\n",
        "\n",
        "    val_loss = []\n",
        "    pred_labels = []\n",
        "    true_labels = []\n",
        "    threshold = 0.35\n",
        "    \n",
        "    with torch.no_grad():\n",
        "        for X, y in tqdm(val_loader):\n",
        "            X = X.float().to(device)\n",
        "            y = y.float().to(device)\n",
        "            \n",
        "            model_pred = model(X.to(device))\n",
        "            \n",
        "            loss = criterion(model_pred, y.reshape(-1, 1))\n",
        "            val_loss.append(loss.item())      \n",
        "            \n",
        "            model_pred = model_pred.squeeze(1).to('cpu')  \n",
        "            pred_labels += model_pred.tolist()\n",
        "            true_labels += y.tolist()\n",
        "        \n",
        "        pred_labels = np.where(np.array(pred_labels) > threshold, 1, 0)\n",
        "        val_f1 = competition_metric(true_labels, pred_labels)\n",
        "    return val_loss, val_f1   \n"
      ],
      "metadata": {
        "id": "640iBDif496q"
      },
      "execution_count": null,
      "outputs": []
    },
    {
      "cell_type": "code",
      "source": [
        "model = Teacher()\n",
        "model.eval()\n",
        "optimizer = torch.optim.Adam(model.parameters(), lr=CFG['LEARNING_RATE'])\n",
        "scheduler = torch.optim.lr_scheduler.ReduceLROnPlateau(optimizer, mode='max', factor=0.5, patience=1, threshold_mode='abs',min_lr=1e-8, verbose=True)\n",
        "\n",
        "teacher_model = train(model, optimizer, train_loader, val_loader, scheduler, device)\n"
      ],
      "metadata": {
        "colab": {
          "base_uri": "https://localhost:8080/",
          "height": 259
        },
        "id": "oOXCGGoH494T",
        "outputId": "f27f6d6c-3690-46e7-a362-a24d7692dc82"
      },
      "execution_count": null,
      "outputs": [
        {
          "output_type": "error",
          "ename": "NameError",
          "evalue": "ignored",
          "traceback": [
            "\u001b[0;31m---------------------------------------------------------------------------\u001b[0m",
            "\u001b[0;31mNameError\u001b[0m                                 Traceback (most recent call last)",
            "\u001b[0;32m<ipython-input-1-208bb7776c93>\u001b[0m in \u001b[0;36m<module>\u001b[0;34m\u001b[0m\n\u001b[0;32m----> 1\u001b[0;31m \u001b[0mmodel\u001b[0m \u001b[0;34m=\u001b[0m \u001b[0mTeacher\u001b[0m\u001b[0;34m(\u001b[0m\u001b[0;34m)\u001b[0m\u001b[0;34m\u001b[0m\u001b[0;34m\u001b[0m\u001b[0m\n\u001b[0m\u001b[1;32m      2\u001b[0m \u001b[0mmodel\u001b[0m\u001b[0;34m.\u001b[0m\u001b[0meval\u001b[0m\u001b[0;34m(\u001b[0m\u001b[0;34m)\u001b[0m\u001b[0;34m\u001b[0m\u001b[0;34m\u001b[0m\u001b[0m\n\u001b[1;32m      3\u001b[0m \u001b[0moptimizer\u001b[0m \u001b[0;34m=\u001b[0m \u001b[0mtorch\u001b[0m\u001b[0;34m.\u001b[0m\u001b[0moptim\u001b[0m\u001b[0;34m.\u001b[0m\u001b[0mAdam\u001b[0m\u001b[0;34m(\u001b[0m\u001b[0mmodel\u001b[0m\u001b[0;34m.\u001b[0m\u001b[0mparameters\u001b[0m\u001b[0;34m(\u001b[0m\u001b[0;34m)\u001b[0m\u001b[0;34m,\u001b[0m \u001b[0mlr\u001b[0m\u001b[0;34m=\u001b[0m\u001b[0mCFG\u001b[0m\u001b[0;34m[\u001b[0m\u001b[0;34m'LEARNING_RATE'\u001b[0m\u001b[0;34m]\u001b[0m\u001b[0;34m)\u001b[0m\u001b[0;34m\u001b[0m\u001b[0;34m\u001b[0m\u001b[0m\n\u001b[1;32m      4\u001b[0m \u001b[0mscheduler\u001b[0m \u001b[0;34m=\u001b[0m \u001b[0mtorch\u001b[0m\u001b[0;34m.\u001b[0m\u001b[0moptim\u001b[0m\u001b[0;34m.\u001b[0m\u001b[0mlr_scheduler\u001b[0m\u001b[0;34m.\u001b[0m\u001b[0mReduceLROnPlateau\u001b[0m\u001b[0;34m(\u001b[0m\u001b[0moptimizer\u001b[0m\u001b[0;34m,\u001b[0m \u001b[0mmode\u001b[0m\u001b[0;34m=\u001b[0m\u001b[0;34m'max'\u001b[0m\u001b[0;34m,\u001b[0m \u001b[0mfactor\u001b[0m\u001b[0;34m=\u001b[0m\u001b[0;36m0.5\u001b[0m\u001b[0;34m,\u001b[0m \u001b[0mpatience\u001b[0m\u001b[0;34m=\u001b[0m\u001b[0;36m1\u001b[0m\u001b[0;34m,\u001b[0m \u001b[0mthreshold_mode\u001b[0m\u001b[0;34m=\u001b[0m\u001b[0;34m'abs'\u001b[0m\u001b[0;34m,\u001b[0m\u001b[0mmin_lr\u001b[0m\u001b[0;34m=\u001b[0m\u001b[0;36m1e-8\u001b[0m\u001b[0;34m,\u001b[0m \u001b[0mverbose\u001b[0m\u001b[0;34m=\u001b[0m\u001b[0;32mTrue\u001b[0m\u001b[0;34m)\u001b[0m\u001b[0;34m\u001b[0m\u001b[0;34m\u001b[0m\u001b[0m\n\u001b[1;32m      5\u001b[0m \u001b[0;34m\u001b[0m\u001b[0m\n",
            "\u001b[0;31mNameError\u001b[0m: name 'Teacher' is not defined"
          ]
        }
      ]
    },
    {
      "cell_type": "markdown",
      "source": [
        "# Vanilla Student model 작성\n",
        "\n"
      ],
      "metadata": {
        "id": "Q_xYp8MK9-lJ"
      }
    },
    {
      "cell_type": "code",
      "source": [
        "class Student(nn.Module):\n",
        "    def __init__(self):\n",
        "        super(Student, self).__init__()\n",
        "        self.classifier = nn.Sequential(\n",
        "            nn.Linear(in_features=17, out_features=136),\n",
        "            nn.BatchNorm1d(136),\n",
        "            nn.LeakyReLU(),\n",
        "            nn.Linear(in_features=136, out_features=136),\n",
        "            nn.BatchNorm1d(136),\n",
        "            nn.LeakyReLU(),\n",
        "            nn.Linear(in_features=136, out_features=136),\n",
        "            nn.BatchNorm1d(136),\n",
        "            nn.LeakyReLU(),\n",
        "            nn.Linear(in_features=136, out_features=1),\n",
        "            nn.Sigmoid()\n",
        "        )\n",
        "        \n",
        "    def forward(self, x):\n",
        "        output = self.classifier(x)\n",
        "        return output"
      ],
      "metadata": {
        "id": "UZM7pazs5UNK"
      },
      "execution_count": null,
      "outputs": []
    },
    {
      "cell_type": "code",
      "source": [
        "test_col"
      ],
      "metadata": {
        "colab": {
          "base_uri": "https://localhost:8080/"
        },
        "id": "kMwn4h7e5ULR",
        "outputId": "4383f65a-5aed-4554-dc59-af7441167aa9"
      },
      "execution_count": null,
      "outputs": [
        {
          "output_type": "execute_result",
          "data": {
            "text/plain": [
              "['COMPONENT_ARBITRARY',\n",
              " 'ANONYMOUS_1',\n",
              " 'ANONYMOUS_2',\n",
              " 'AG',\n",
              " 'CO',\n",
              " 'CR',\n",
              " 'CU',\n",
              " 'FE',\n",
              " 'H2O',\n",
              " 'MN',\n",
              " 'MO',\n",
              " 'NI',\n",
              " 'PQINDEX',\n",
              " 'TI',\n",
              " 'V',\n",
              " 'V40',\n",
              " 'ZN']"
            ]
          },
          "metadata": {},
          "execution_count": 143
        }
      ]
    },
    {
      "cell_type": "code",
      "source": [
        "def distillation(student_logits, labels, teacher_logits, alpha):\n",
        "    distillation_loss = nn.BCELoss()(student_logits, teacher_logits)\n",
        "    student_loss = nn.BCELoss()(student_logits, labels.reshape(-1, 1))\n",
        "    return alpha * student_loss + (1-alpha) * distillation_loss"
      ],
      "metadata": {
        "id": "Xa6UEyAN5UJH"
      },
      "execution_count": null,
      "outputs": []
    },
    {
      "cell_type": "code",
      "source": [
        "def distill_loss(output, target, teacher_output, loss_fn=distillation, opt=optimizer):\n",
        "    loss_b = loss_fn(output, target, teacher_output, alpha=0.1)\n",
        "\n",
        "    if opt is not None:\n",
        "        opt.zero_grad()\n",
        "        loss_b.backward()\n",
        "        opt.step()\n",
        "\n",
        "    return loss_b.item()"
      ],
      "metadata": {
        "id": "bYoPvUAD5UHO"
      },
      "execution_count": null,
      "outputs": []
    },
    {
      "cell_type": "code",
      "source": [
        "def validation_student(s_model, t_model, val_loader, criterion, device):\n",
        "    s_model.eval()\n",
        "    t_model.eval()\n",
        "\n",
        "    val_loss = []\n",
        "    pred_labels = []\n",
        "    true_labels = []\n",
        "    threshold = 0.35\n",
        "    \n",
        "    with torch.no_grad():\n",
        "        for X_t, X_s, y in tqdm(val_loader):\n",
        "            X_t = X_t.float().to(device)\n",
        "            X_s = X_s.float().to(device)\n",
        "            y = y.float().to(device)\n",
        "            \n",
        "            model_pred = s_model(X_s)\n",
        "            teacher_output = t_model(X_t)\n",
        "            \n",
        "            loss_b = distill_loss(model_pred, y, teacher_output, loss_fn=distillation, opt=None)\n",
        "            val_loss.append(loss_b)\n",
        "            \n",
        "            model_pred = model_pred.squeeze(1).to('cpu')\n",
        "            pred_labels += model_pred.tolist()\n",
        "            true_labels += y.tolist()\n",
        "        \n",
        "        pred_labels = np.where(np.array(pred_labels) > threshold, 1, 0)\n",
        "        val_f1 = competition_metric(true_labels, pred_labels)\n",
        "    return val_loss, val_f1    "
      ],
      "metadata": {
        "id": "069v6gxY-1V2"
      },
      "execution_count": null,
      "outputs": []
    },
    {
      "cell_type": "code",
      "source": [
        "def student_train(s_model, t_model, optimizer, train_loader, val_loader, scheduler, device):\n",
        "    s_model.to(device)\n",
        "    t_model.to(device)\n",
        "    \n",
        "    best_score = 0\n",
        "    best_model = None\n",
        "\n",
        "    for epoch in range(CFG[\"EPOCHS\"]):\n",
        "        train_loss = []\n",
        "        s_model.train()\n",
        "        t_model.eval()\n",
        "        \n",
        "        for X_t, X_s, y in tqdm(train_loader):\n",
        "            X_t = X_t.float().to(device)\n",
        "            X_s = X_s.float().to(device)\n",
        "            y = y.float().to(device)\n",
        "            \n",
        "            optimizer.zero_grad()\n",
        "\n",
        "            output = s_model(X_s)\n",
        "            with torch.no_grad():\n",
        "                teacher_output = t_model(X_t)\n",
        "                \n",
        "            loss_b = distill_loss(output, y, teacher_output, loss_fn=distillation, opt=optimizer)\n",
        "\n",
        "            train_loss.append(loss_b)\n",
        "\n",
        "        val_loss, val_score = validation_student(s_model, t_model, val_loader, distill_loss, device)\n",
        "        print(f'Epoch [{epoch}], Train Loss : [{np.mean(train_loss) :.5f}] Val Loss : [{np.mean(val_loss) :.5f}] Val F1 Score : [{val_score:.5f}]')\n",
        "        \n",
        "        if scheduler is not None:\n",
        "            scheduler.step(val_score)\n",
        "            \n",
        "        if best_score < val_score:\n",
        "            best_model = s_model\n",
        "            best_score = val_score\n",
        "        \n",
        "    return best_model"
      ],
      "metadata": {
        "id": "q76Ix1iG5UFF"
      },
      "execution_count": null,
      "outputs": []
    },
    {
      "cell_type": "code",
      "source": [
        "train_dataset = CustomDataset(train_X, train_y, True)\n",
        "val_dataset = CustomDataset(val_X, val_y, True)\n",
        "train_loader = DataLoader(train_dataset, batch_size = CFG['BATCH_SIZE'], shuffle=True)\n",
        "val_loader = DataLoader(val_dataset, batch_size = CFG['BATCH_SIZE'], shuffle=False)"
      ],
      "metadata": {
        "id": "uLr9Ov5v-1T0"
      },
      "execution_count": null,
      "outputs": []
    },
    {
      "cell_type": "code",
      "source": [
        "student_model = Student()\n",
        "student_model.eval()\n",
        "optimizer = torch.optim.Adam(student_model.parameters(), lr=CFG['LEARNING_RATE'])\n",
        "scheduler = torch.optim.lr_scheduler.ReduceLROnPlateau(optimizer, mode='max', factor=0.5, patience=1, threshold_mode='abs',min_lr=1e-8, verbose=True)\n",
        "\n",
        "best_student_model = student_train(student_model, teacher_model, optimizer, train_loader, val_loader, scheduler, device)"
      ],
      "metadata": {
        "id": "N6TIAsLD_C6A"
      },
      "execution_count": null,
      "outputs": []
    },
    {
      "cell_type": "code",
      "source": [],
      "metadata": {
        "id": "5obXqFfu_C3y"
      },
      "execution_count": null,
      "outputs": []
    },
    {
      "cell_type": "code",
      "source": [],
      "metadata": {
        "id": "8EXdABSc_C1l"
      },
      "execution_count": null,
      "outputs": []
    },
    {
      "cell_type": "code",
      "source": [],
      "metadata": {
        "id": "NXIaLzkM-1Ro"
      },
      "execution_count": null,
      "outputs": []
    },
    {
      "cell_type": "code",
      "source": [],
      "metadata": {
        "id": "-gz160QG6iQO"
      },
      "execution_count": null,
      "outputs": []
    }
  ]
}