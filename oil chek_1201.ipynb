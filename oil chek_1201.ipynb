{
  "nbformat": 4,
  "nbformat_minor": 0,
  "metadata": {
    "colab": {
      "provenance": [],
      "collapsed_sections": [
        "h7YvwnLclZ6u",
        "2JYHe5XAlZ85",
        "XSGajQuLlaAz",
        "3kKHiL1db5Y5",
        "c2_cIVIJb859",
        "O_RSQX3Wrkaq",
        "lLC3N4XFuNRK"
      ],
      "toc_visible": true,
      "authorship_tag": "ABX9TyPBzgnDKNljvR1VM5bJPbLR",
      "include_colab_link": true
    },
    "kernelspec": {
      "name": "python3",
      "display_name": "Python 3"
    },
    "language_info": {
      "name": "python"
    }
  },
  "cells": [
    {
      "cell_type": "markdown",
      "metadata": {
        "id": "view-in-github",
        "colab_type": "text"
      },
      "source": [
        "<a href=\"https://colab.research.google.com/github/infected4098/Oil-compete/blob/main/oil%20chek_1201.ipynb\" target=\"_parent\"><img src=\"https://colab.research.google.com/assets/colab-badge.svg\" alt=\"Open In Colab\"/></a>"
      ]
    },
    {
      "cell_type": "markdown",
      "source": [
        "# 파일 임포트"
      ],
      "metadata": {
        "id": "h7YvwnLclZ6u"
      }
    },
    {
      "cell_type": "code",
      "execution_count": 16,
      "metadata": {
        "id": "Zzn37ilXlTrf"
      },
      "outputs": [],
      "source": [
        "#딥러닝 프레임워크\n",
        "import torch\n",
        "import torch.nn as nn\n",
        "import torch.nn.functional as F\n",
        "import torch.optim as optim\n",
        "from torch.utils.data import DataLoader, Dataset\n",
        "from torchsummary import summary as summary_\n",
        "\n",
        "#하이퍼파라미터 튜닝\n",
        "from torch.utils.data import random_split\n",
        "import torchvision\n",
        "import torchvision.transforms as transforms\n",
        "\n",
        "\n",
        "#전처리, 점수 측정\n",
        "from sklearn.metrics import f1_score\n",
        "from sklearn.preprocessing import StandardScaler, RobustScaler\n",
        "from sklearn.preprocessing import LabelEncoder\n",
        "from sklearn.model_selection import train_test_split\n",
        "\n",
        "#컴퓨터 리소스 할당 관련 \n",
        "import os\n",
        "from tqdm.auto import tqdm \n",
        "\n",
        "#기초 툴, 시각화\n",
        "import pandas as pd\n",
        "import matplotlib.pyplot as plt\n",
        "import seaborn as sns\n",
        "import numpy as np\n",
        "\n",
        "#기타\n",
        "import warnings\n",
        "warnings.filterwarnings(\"ignore\")\n",
        "\n",
        "#통계 패키지. 다중공선성 체크\n",
        "from statsmodels.stats.outliers_influence import variance_inflation_factor\n",
        "from sklearn.decomposition import PCA"
      ]
    },
    {
      "cell_type": "code",
      "source": [
        "#드라이브 소싱\n",
        "from google.colab import drive\n",
        "drive.mount('/content/gdrive')\n",
        "device = torch.device('cuda') if torch.cuda.is_available() else torch.device('cpu')\n",
        "\n",
        "#document 위치: /Users/infected4098/Desktop/오일상태 분류"
      ],
      "metadata": {
        "colab": {
          "base_uri": "https://localhost:8080/"
        },
        "id": "wC-zC5Z4lbM1",
        "outputId": "4b44b6d8-1419-4f55-a258-255813235d4b"
      },
      "execution_count": 17,
      "outputs": [
        {
          "output_type": "stream",
          "name": "stdout",
          "text": [
            "Drive already mounted at /content/gdrive; to attempt to forcibly remount, call drive.mount(\"/content/gdrive\", force_remount=True).\n"
          ]
        }
      ]
    },
    {
      "cell_type": "code",
      "source": [
        "train = pd.read_csv(\"/content/gdrive/MyDrive/오일상태 분류/train.csv\")\n",
        "\n",
        "move_train = train.copy()\n",
        "\n",
        "test = pd.read_csv(\"/content/gdrive/MyDrive/오일상태 분류/test.csv\")\n",
        "\n",
        "\n",
        "print(train.shape, test.shape)\n",
        "\n",
        "#데이터가 14095개. feature 는 54개. "
      ],
      "metadata": {
        "colab": {
          "base_uri": "https://localhost:8080/"
        },
        "id": "paw4y7WWlbLM",
        "outputId": "59404248-f923-4112-90ac-1813446618cf"
      },
      "execution_count": 18,
      "outputs": [
        {
          "output_type": "stream",
          "name": "stdout",
          "text": [
            "(14095, 54) (6041, 19)\n"
          ]
        }
      ]
    },
    {
      "cell_type": "code",
      "source": [
        "train_col = train.columns\n",
        "\n",
        "#test_col = test.columns\n",
        "\n",
        "test_col = [ 'COMPONENT_ARBITRARY', 'ANONYMOUS_1', 'ANONYMOUS_2', 'AG',\n",
        "       'CO', 'CR', 'CU', 'FE', 'H2O', 'MN', 'MO', 'NI', 'PQINDEX', 'TI', 'V',\n",
        "       'V40', 'ZN']"
      ],
      "metadata": {
        "id": "hWPcN4EmlbI9"
      },
      "execution_count": 19,
      "outputs": []
    },
    {
      "cell_type": "markdown",
      "source": [
        "# 이상치 체크"
      ],
      "metadata": {
        "id": "2JYHe5XAlZ85"
      }
    },
    {
      "cell_type": "code",
      "source": [
        "#무명 feature 1, 2\n",
        "anon = [\"ANONYMOUS_1\", \"ANONYMOUS_2\"]\n",
        "na_value = train.apply(lambda x: x.isna().sum())\n",
        "\n",
        "\n",
        "real_na = na_value[na_value>0]\n",
        "\n",
        "plt.bar(real_na.index, real_na)\n",
        "plt.xticks(rotation=40)"
      ],
      "metadata": {
        "colab": {
          "base_uri": "https://localhost:8080/",
          "height": 359
        },
        "id": "G9l17avdltnI",
        "outputId": "bca2a0bd-cc77-4e72-8c0b-1efe77224a84"
      },
      "execution_count": 20,
      "outputs": [
        {
          "output_type": "execute_result",
          "data": {
            "text/plain": [
              "([0, 1, 2, 3, 4, 5, 6, 7, 8, 9, 10, 11, 12, 13, 14, 15, 16, 17, 18],\n",
              " <a list of 19 Text major ticklabel objects>)"
            ]
          },
          "metadata": {},
          "execution_count": 20
        },
        {
          "output_type": "display_data",
          "data": {
            "text/plain": [
              "<Figure size 432x288 with 1 Axes>"
            ],
            "image/png": "[encoded data removed]"
          },
          "metadata": {
            "needs_background": "light"
          }
        }
      ]
    },
    {
      "cell_type": "code",
      "source": [
        "#카드뮴 함유량 정보는 결측치가 1394개 있음.\n",
        "#FH20. FNOX, FOPTIMETHGLY, \n",
        "\n",
        "#결측치들 처리 방식에 대해 고민하기\n",
        "for value in list(train[\"CD\"].unique()):\n",
        "  print(value, sum(train[\"CD\"]==value))\n",
        "#0이 거의 대부분의 데이터니까 .train[\"CD\"]는 결측값 0으로 대체"
      ],
      "metadata": {
        "colab": {
          "base_uri": "https://localhost:8080/"
        },
        "id": "P_zeEK6altlI",
        "outputId": "b7f60fd1-713c-4bea-9002-c5e2804e06fc"
      },
      "execution_count": 21,
      "outputs": [
        {
          "output_type": "stream",
          "name": "stdout",
          "text": [
            "0.0 12543\n",
            "nan 0\n",
            "1.0 138\n",
            "2.0 16\n",
            "4.0 1\n",
            "18.0 1\n",
            "3.0 2\n"
          ]
        }
      ]
    },
    {
      "cell_type": "code",
      "source": [
        "move_train[\"CD\"] = move_train[\"CD\"].fillna(0)\n",
        "print(move_train[\"CD\"])\n",
        "\n",
        "#potassium 함유량. \"K\". 결측치 2292개 \n",
        "K_nonna_train = train[train[\"K\"].isna()==False]\n",
        "\n",
        "plt.boxplot(K_nonna_train[\"K\"])"
      ],
      "metadata": {
        "colab": {
          "base_uri": "https://localhost:8080/",
          "height": 622
        },
        "id": "_eNg-SCFltgc",
        "outputId": "5dc15597-a6f8-4e65-c610-0f6db7bc1933"
      },
      "execution_count": 22,
      "outputs": [
        {
          "output_type": "stream",
          "name": "stdout",
          "text": [
            "0        0.0\n",
            "1        0.0\n",
            "2        0.0\n",
            "3        0.0\n",
            "4        0.0\n",
            "        ... \n",
            "14090    0.0\n",
            "14091    0.0\n",
            "14092    0.0\n",
            "14093    0.0\n",
            "14094    0.0\n",
            "Name: CD, Length: 14095, dtype: float64\n"
          ]
        },
        {
          "output_type": "execute_result",
          "data": {
            "text/plain": [
              "{'whiskers': [<matplotlib.lines.Line2D at 0x7f588bc84f70>,\n",
              "  <matplotlib.lines.Line2D at 0x7f588bc8f310>],\n",
              " 'caps': [<matplotlib.lines.Line2D at 0x7f588bc8f670>,\n",
              "  <matplotlib.lines.Line2D at 0x7f588bc8f9d0>],\n",
              " 'boxes': [<matplotlib.lines.Line2D at 0x7f588bc84c10>],\n",
              " 'medians': [<matplotlib.lines.Line2D at 0x7f588bc8fd30>],\n",
              " 'fliers': [<matplotlib.lines.Line2D at 0x7f588bc98070>],\n",
              " 'means': []}"
            ]
          },
          "metadata": {},
          "execution_count": 22
        },
        {
          "output_type": "display_data",
          "data": {
            "text/plain": [
              "<Figure size 432x288 with 1 Axes>"
            ],
            "image/png": "[encoded data removed]"
          },
          "metadata": {
            "needs_background": "light"
          }
        }
      ]
    },
    {
      "cell_type": "code",
      "source": [
        "K_nonna_train[\"K\"].describe()"
      ],
      "metadata": {
        "colab": {
          "base_uri": "https://localhost:8080/"
        },
        "id": "JfueG-Lpmtv3",
        "outputId": "4444ce67-03c8-4072-c483-5817d40fd9f6"
      },
      "execution_count": 23,
      "outputs": [
        {
          "output_type": "execute_result",
          "data": {
            "text/plain": [
              "count    11796.000000\n",
              "mean         3.611224\n",
              "std         15.630404\n",
              "min          0.000000\n",
              "25%          0.000000\n",
              "50%          2.000000\n",
              "75%          3.000000\n",
              "max        705.000000\n",
              "Name: K, dtype: float64"
            ]
          },
          "metadata": {},
          "execution_count": 23
        }
      ]
    },
    {
      "cell_type": "code",
      "source": [
        "K_median = K_nonna_train[\"K\"].median()\n",
        "#중위값으로 대체하자 \n",
        "\n",
        "\n",
        "move_train[\"K\"]=move_train[\"K\"].fillna(K_median)\n",
        "\n",
        "\n",
        "move_train[\"K\"].isna().sum()"
      ],
      "metadata": {
        "colab": {
          "base_uri": "https://localhost:8080/"
        },
        "id": "kNivAv2emtt-",
        "outputId": "95a82eef-5d9f-4230-9de7-c10147cb58da"
      },
      "execution_count": 24,
      "outputs": [
        {
          "output_type": "execute_result",
          "data": {
            "text/plain": [
              "0"
            ]
          },
          "metadata": {},
          "execution_count": 24
        }
      ]
    },
    {
      "cell_type": "code",
      "source": [
        "med_na_index = real_na.index\n",
        "for i in med_na_index:\n",
        "  print(train[i].describe(), train[i].median(), train[i].skew())"
      ],
      "metadata": {
        "id": "sZCFqaT9mtrz"
      },
      "execution_count": null,
      "outputs": []
    },
    {
      "cell_type": "code",
      "source": [
        "move_train[\"FH2O\"] = move_train[\"FH2O\"].fillna(train[\"FH2O\"].median())\n",
        "move_train[\"FOPTIMETHGLY\"] = move_train[\"FOPTIMETHGLY\"].fillna(0) #0이 median\n",
        "move_train[\"FNOX\"] = move_train[\"FNOX\"].fillna(7) #7이 median\n",
        "move_train[\"FOXID\"] = move_train[\"FOXID\"].fillna(12) #12이 median\n",
        "move_train[\"FSO4\"] = move_train[\"FSO4\"].fillna(20) #20이 median\n",
        "move_train[\"FUEL\"] = move_train[\"FUEL\"].fillna(0) #0이 median\n",
        "move_train[\"FTBN\"] = move_train[\"FTBN\"].fillna(train[\"FTBN\"].mean()) #skew 하지 않으니 mean 으로 대체 "
      ],
      "metadata": {
        "id": "oYfYYxlVmtp_"
      },
      "execution_count": 26,
      "outputs": []
    },
    {
      "cell_type": "code",
      "source": [
        "for leftover_index in real_na[9:].index:\n",
        "  if np.abs(train[leftover_index].skew())>2.0:\n",
        "    #skewed. using median\n",
        "    move_train[leftover_index]=move_train[leftover_index].fillna(train[leftover_index].median())\n",
        "\n",
        "  else:\n",
        "    #not skewed. using mean\n",
        "    move_train[leftover_index]=move_train[leftover_index].fillna(train[leftover_index].mean())\n",
        "\n"
      ],
      "metadata": {
        "id": "dmRrrGMNlteY"
      },
      "execution_count": 27,
      "outputs": []
    },
    {
      "cell_type": "code",
      "source": [
        "#move_train, test 생성."
      ],
      "metadata": {
        "id": "JcF3hq0xdfeg"
      },
      "execution_count": null,
      "outputs": []
    },
    {
      "cell_type": "code",
      "source": [],
      "metadata": {
        "id": "-QLZm7NUdfcf"
      },
      "execution_count": null,
      "outputs": []
    },
    {
      "cell_type": "code",
      "source": [],
      "metadata": {
        "id": "DJ4HDEgodfaF"
      },
      "execution_count": null,
      "outputs": []
    },
    {
      "cell_type": "code",
      "source": [],
      "metadata": {
        "id": "QhmRnouWltb4"
      },
      "execution_count": null,
      "outputs": []
    },
    {
      "cell_type": "markdown",
      "source": [
        "# 약한 모델 4가지 생성하는 거 노트\n"
      ],
      "metadata": {
        "id": "XSGajQuLlaAz"
      }
    },
    {
      "cell_type": "code",
      "source": [
        "#앙상블 4가지 \n",
        "#ensemble 1 dataset: 모든 feature 다 써. scaling은 다 하고. \n",
        "#ensemble 2 dataset: AL 제거\n",
        "#ensemble 3 dataset: 결측치 많은 건 다 제거 \n",
        "#ensemble 4 dataset: student model에 들어가는 feature로만 학습\n",
        "#ensemble _1: 깊고 얕게\n",
        "#ensemble _2: 얇고 굵게 \n",
        "#ensemble _3: 얇고 얕게 \n",
        "#각 1, 2, 3, 4별로 ensemble _ 1, 2, 3 중 하나를 고르자 ! "
      ],
      "metadata": {
        "id": "UMnBoEz-lti0"
      },
      "execution_count": null,
      "outputs": []
    },
    {
      "cell_type": "markdown",
      "source": [
        "# "
      ],
      "metadata": {
        "id": "D1reWiW3oVVC"
      }
    },
    {
      "cell_type": "code",
      "source": [
        "#ensemble 1, 2, 3, 4 는 feature 의 개수가 다 다름."
      ],
      "metadata": {
        "id": "f3J9yGwDoUVw"
      },
      "execution_count": null,
      "outputs": []
    },
    {
      "cell_type": "markdown",
      "source": [
        "# ensemble 1 dataset"
      ],
      "metadata": {
        "id": "3kKHiL1db5Y5"
      }
    },
    {
      "cell_type": "markdown",
      "source": [
        "train_1 은 id, y_label 을 제외해준 데이터 파일에 \n",
        "모든 component 들을 결측치 대체를 활용해 가용 상태로 바꿔준 다음, skewness에 따라 robust scaling, standard scaling 을 전부 적용해준 것이다. "
      ],
      "metadata": {
        "id": "mer0R9dDelvS"
      }
    },
    {
      "cell_type": "code",
      "source": [
        "#train, test 까지 만든 상태. \n",
        "train_1 = move_train.copy()\n",
        "test_1 = test.copy()\n",
        "test_col = [ 'COMPONENT_ARBITRARY', 'ANONYMOUS_1', 'ANONYMOUS_2', 'AG',\n",
        "       'CO', 'CR', 'CU', 'FE', 'H2O', 'MN', 'MO', 'NI', 'PQINDEX', 'TI', 'V',\n",
        "       'V40', 'ZN']\n",
        "\n",
        "train_col = train_1.columns\n",
        "\n",
        "le = LabelEncoder()\n",
        "le.fit(train_1[\"COMPONENT_ARBITRARY\"])\n",
        "le_encoded = le.transform(train_1[\"COMPONENT_ARBITRARY\"])\n",
        "train_1[\"COMPONENT_ARBITRARY\"] = le_encoded\n",
        "X_1 = train_1.drop([\"ID\", \"Y_LABEL\"], axis=1)\n",
        "y_1 = train_1[\"Y_LABEL\"]\n",
        "\n"
      ],
      "metadata": {
        "id": "0pV8yuCJb4Vj"
      },
      "execution_count": 60,
      "outputs": []
    },
    {
      "cell_type": "code",
      "source": [
        "robust_col = []\n",
        "standard_col = []\n",
        "for col in X_1.columns:\n",
        "  if X_1[col].skew()>2:\n",
        "    robust_col.append(col)\n",
        "  else:\n",
        "    standard_col.append(col)\n",
        "  \n",
        "print(robust_col)\n",
        "print(\"\\n\", standard_col)\n"
      ],
      "metadata": {
        "colab": {
          "base_uri": "https://localhost:8080/"
        },
        "id": "wZwEWomqb8Qr",
        "outputId": "d2b48b30-4e0a-47bb-9e05-a544d443230f"
      },
      "execution_count": 61,
      "outputs": [
        {
          "output_type": "stream",
          "name": "stdout",
          "text": [
            "['ANONYMOUS_1', 'SAMPLE_TRANSFER_DAY', 'ANONYMOUS_2', 'AG', 'AL', 'B', 'BA', 'BE', 'CD', 'CO', 'CR', 'CU', 'FH2O', 'FNOX', 'FOPTIMETHGLY', 'FOXID', 'FSO4', 'FE', 'FUEL', 'H2O', 'K', 'LI', 'MG', 'MN', 'MO', 'NA', 'NI', 'PB', 'PQINDEX', 'SB', 'SI', 'SN', 'SOOTPERCENTAGE', 'TI', 'U100', 'U75', 'U50', 'U25', 'U20', 'U14', 'U6', 'U4', 'V', 'V40']\n",
            "\n",
            " ['COMPONENT_ARBITRARY', 'YEAR', 'CA', 'FTBN', 'P', 'S', 'V100', 'ZN']\n"
          ]
        }
      ]
    },
    {
      "cell_type": "code",
      "source": [
        "for col in X_1.columns:\n",
        "  if col != \"COMPONENT_ARBITRARY\":\n",
        "    if col in robust_col:\n",
        "      scaler = RobustScaler()\n",
        "      X_1[col] = scaler.fit_transform(X_1[[col]])\n",
        "      \n",
        "      #정규화 \n",
        "      scaler2 = StandardScaler()\n",
        "      X_1[col] = scaler2.fit_transform(X_1[[col]])\n",
        "\n",
        "\n",
        "\n",
        "\n",
        "    elif col in standard_col:\n",
        "      scaler = StandardScaler()\n",
        "      X_1[col] = scaler.fit_transform(X_1[[col]])\n",
        "\n",
        "    else:\n",
        "      print(\"#####error#####\")\n",
        "\n",
        "  \n",
        "X_1.head()"
      ],
      "metadata": {
        "colab": {
          "base_uri": "https://localhost:8080/",
          "height": 300
        },
        "id": "nAwwWiISb8Oi",
        "outputId": "2a03da9a-bff9-44c2-9b56-9bfa0d5620f5"
      },
      "execution_count": 62,
      "outputs": [
        {
          "output_type": "execute_result",
          "data": {
            "text/plain": [
              "   COMPONENT_ARBITRARY  ANONYMOUS_1      YEAR  SAMPLE_TRANSFER_DAY  \\\n",
              "0                    2    -0.393763 -0.669043            -0.051413   \n",
              "1                    1    -0.426022  1.853268             3.715319   \n",
              "2                    1    -0.173409  0.339881            -0.479451   \n",
              "3                    2     1.006399 -0.921274            -0.479451   \n",
              "4                    2     0.191634  0.339881            -0.308236   \n",
              "\n",
              "   ANONYMOUS_2        AG        AL         B        BA        BE  ...  \\\n",
              "0    -0.340760 -0.150214 -0.111628  0.281646 -0.238453 -0.041491  ...   \n",
              "1    -0.022576 -0.150214 -0.123127 -0.437686 -0.238453 -0.041491  ...   \n",
              "2    -0.340760 -0.150214  1.118753 -0.612659  0.105735 -0.041491  ...   \n",
              "3    -0.340760 -0.150214 -0.054133 -0.593217 -0.238453 -0.041491  ...   \n",
              "4    -0.340760 -0.150214 -0.134626  0.903771 -0.238453 -0.041491  ...   \n",
              "\n",
              "        U50       U25       U20       U14        U6        U4        V  V100  \\\n",
              "0 -0.056904 -0.093028 -0.092629 -0.100538 -0.091369 -0.064182 -0.10655   0.0   \n",
              "1 -0.056904 -0.216802 -0.210446 -0.287063 -0.341540 -0.778002 -0.10655   0.0   \n",
              "2 -0.123693 -0.266311 -0.223537 -0.166371  1.456213  1.739155 -0.10655   0.0   \n",
              "3 -0.056904 -0.093028 -0.092629 -0.100538 -0.091369 -0.064182 -0.10655   0.0   \n",
              "4 -0.056904 -0.093028 -0.092629 -0.100538 -0.091369 -0.064182 -0.10655   0.0   \n",
              "\n",
              "        V40        ZN  \n",
              "0  0.899892 -0.966002  \n",
              "1 -1.317376  0.119147  \n",
              "2 -0.740886 -0.332215  \n",
              "3  0.482642 -1.093888  \n",
              "4  0.478611 -0.866326  \n",
              "\n",
              "[5 rows x 52 columns]"
            ],
            "text/html": [
              "\n",
              "  <div id=\"df-8d4eac51-9ad7-43bc-93dd-0c9a70e29a43\">\n",
              "    <div class=\"colab-df-container\">\n",
              "      <div>\n",
              "<style scoped>\n",
              "    .dataframe tbody tr th:only-of-type {\n",
              "        vertical-align: middle;\n",
              "    }\n",
              "\n",
              "    .dataframe tbody tr th {\n",
              "        vertical-align: top;\n",
              "    }\n",
              "\n",
              "    .dataframe thead th {\n",
              "        text-align: right;\n",
              "    }\n",
              "</style>\n",
              "<table border=\"1\" class=\"dataframe\">\n",
              "  <thead>\n",
              "    <tr style=\"text-align: right;\">\n",
              "      <th></th>\n",
              "      <th>COMPONENT_ARBITRARY</th>\n",
              "      <th>ANONYMOUS_1</th>\n",
              "      <th>YEAR</th>\n",
              "      <th>SAMPLE_TRANSFER_DAY</th>\n",
              "      <th>ANONYMOUS_2</th>\n",
              "      <th>AG</th>\n",
              "      <th>AL</th>\n",
              "      <th>B</th>\n",
              "      <th>BA</th>\n",
              "      <th>BE</th>\n",
              "      <th>...</th>\n",
              "      <th>U50</th>\n",
              "      <th>U25</th>\n",
              "      <th>U20</th>\n",
              "      <th>U14</th>\n",
              "      <th>U6</th>\n",
              "      <th>U4</th>\n",
              "      <th>V</th>\n",
              "      <th>V100</th>\n",
              "      <th>V40</th>\n",
              "      <th>ZN</th>\n",
              "    </tr>\n",
              "  </thead>\n",
              "  <tbody>\n",
              "    <tr>\n",
              "      <th>0</th>\n",
              "      <td>2</td>\n",
              "      <td>-0.393763</td>\n",
              "      <td>-0.669043</td>\n",
              "      <td>-0.051413</td>\n",
              "      <td>-0.340760</td>\n",
              "      <td>-0.150214</td>\n",
              "      <td>-0.111628</td>\n",
              "      <td>0.281646</td>\n",
              "      <td>-0.238453</td>\n",
              "      <td>-0.041491</td>\n",
              "      <td>...</td>\n",
              "      <td>-0.056904</td>\n",
              "      <td>-0.093028</td>\n",
              "      <td>-0.092629</td>\n",
              "      <td>-0.100538</td>\n",
              "      <td>-0.091369</td>\n",
              "      <td>-0.064182</td>\n",
              "      <td>-0.10655</td>\n",
              "      <td>0.0</td>\n",
              "      <td>0.899892</td>\n",
              "      <td>-0.966002</td>\n",
              "    </tr>\n",
              "    <tr>\n",
              "      <th>1</th>\n",
              "      <td>1</td>\n",
              "      <td>-0.426022</td>\n",
              "      <td>1.853268</td>\n",
              "      <td>3.715319</td>\n",
              "      <td>-0.022576</td>\n",
              "      <td>-0.150214</td>\n",
              "      <td>-0.123127</td>\n",
              "      <td>-0.437686</td>\n",
              "      <td>-0.238453</td>\n",
              "      <td>-0.041491</td>\n",
              "      <td>...</td>\n",
              "      <td>-0.056904</td>\n",
              "      <td>-0.216802</td>\n",
              "      <td>-0.210446</td>\n",
              "      <td>-0.287063</td>\n",
              "      <td>-0.341540</td>\n",
              "      <td>-0.778002</td>\n",
              "      <td>-0.10655</td>\n",
              "      <td>0.0</td>\n",
              "      <td>-1.317376</td>\n",
              "      <td>0.119147</td>\n",
              "    </tr>\n",
              "    <tr>\n",
              "      <th>2</th>\n",
              "      <td>1</td>\n",
              "      <td>-0.173409</td>\n",
              "      <td>0.339881</td>\n",
              "      <td>-0.479451</td>\n",
              "      <td>-0.340760</td>\n",
              "      <td>-0.150214</td>\n",
              "      <td>1.118753</td>\n",
              "      <td>-0.612659</td>\n",
              "      <td>0.105735</td>\n",
              "      <td>-0.041491</td>\n",
              "      <td>...</td>\n",
              "      <td>-0.123693</td>\n",
              "      <td>-0.266311</td>\n",
              "      <td>-0.223537</td>\n",
              "      <td>-0.166371</td>\n",
              "      <td>1.456213</td>\n",
              "      <td>1.739155</td>\n",
              "      <td>-0.10655</td>\n",
              "      <td>0.0</td>\n",
              "      <td>-0.740886</td>\n",
              "      <td>-0.332215</td>\n",
              "    </tr>\n",
              "    <tr>\n",
              "      <th>3</th>\n",
              "      <td>2</td>\n",
              "      <td>1.006399</td>\n",
              "      <td>-0.921274</td>\n",
              "      <td>-0.479451</td>\n",
              "      <td>-0.340760</td>\n",
              "      <td>-0.150214</td>\n",
              "      <td>-0.054133</td>\n",
              "      <td>-0.593217</td>\n",
              "      <td>-0.238453</td>\n",
              "      <td>-0.041491</td>\n",
              "      <td>...</td>\n",
              "      <td>-0.056904</td>\n",
              "      <td>-0.093028</td>\n",
              "      <td>-0.092629</td>\n",
              "      <td>-0.100538</td>\n",
              "      <td>-0.091369</td>\n",
              "      <td>-0.064182</td>\n",
              "      <td>-0.10655</td>\n",
              "      <td>0.0</td>\n",
              "      <td>0.482642</td>\n",
              "      <td>-1.093888</td>\n",
              "    </tr>\n",
              "    <tr>\n",
              "      <th>4</th>\n",
              "      <td>2</td>\n",
              "      <td>0.191634</td>\n",
              "      <td>0.339881</td>\n",
              "      <td>-0.308236</td>\n",
              "      <td>-0.340760</td>\n",
              "      <td>-0.150214</td>\n",
              "      <td>-0.134626</td>\n",
              "      <td>0.903771</td>\n",
              "      <td>-0.238453</td>\n",
              "      <td>-0.041491</td>\n",
              "      <td>...</td>\n",
              "      <td>-0.056904</td>\n",
              "      <td>-0.093028</td>\n",
              "      <td>-0.092629</td>\n",
              "      <td>-0.100538</td>\n",
              "      <td>-0.091369</td>\n",
              "      <td>-0.064182</td>\n",
              "      <td>-0.10655</td>\n",
              "      <td>0.0</td>\n",
              "      <td>0.478611</td>\n",
              "      <td>-0.866326</td>\n",
              "    </tr>\n",
              "  </tbody>\n",
              "</table>\n",
              "<p>5 rows × 52 columns</p>\n",
              "</div>\n",
              "      <button class=\"colab-df-convert\" onclick=\"convertToInteractive('df-8d4eac51-9ad7-43bc-93dd-0c9a70e29a43')\"\n",
              "              title=\"Convert this dataframe to an interactive table.\"\n",
              "              style=\"display:none;\">\n",
              "        \n",
              "  <svg xmlns=\"http://www.w3.org/2000/svg\" height=\"24px\"viewBox=\"0 0 24 24\"\n",
              "       width=\"24px\">\n",
              "    <path d=\"M0 0h24v24H0V0z\" fill=\"none\"/>\n",
              "    <path d=\"M18.56 5.44l.94 2.06.94-2.06 2.06-.94-2.06-.94-.94-2.06-.94 2.06-2.06.94zm-11 1L8.5 8.5l.94-2.06 2.06-.94-2.06-.94L8.5 2.5l-.94 2.06-2.06.94zm10 10l.94 2.06.94-2.06 2.06-.94-2.06-.94-.94-2.06-.94 2.06-2.06.94z\"/><path d=\"M17.41 7.96l-1.37-1.37c-.4-.4-.92-.59-1.43-.59-.52 0-1.04.2-1.43.59L10.3 9.45l-7.72 7.72c-.78.78-.78 2.05 0 2.83L4 21.41c.39.39.9.59 1.41.59.51 0 1.02-.2 1.41-.59l7.78-7.78 2.81-2.81c.8-.78.8-2.07 0-2.86zM5.41 20L4 18.59l7.72-7.72 1.47 1.35L5.41 20z\"/>\n",
              "  </svg>\n",
              "      </button>\n",
              "      \n",
              "  <style>\n",
              "    .colab-df-container {\n",
              "      display:flex;\n",
              "      flex-wrap:wrap;\n",
              "      gap: 12px;\n",
              "    }\n",
              "\n",
              "    .colab-df-convert {\n",
              "      background-color: #E8F0FE;\n",
              "      border: none;\n",
              "      border-radius: 50%;\n",
              "      cursor: pointer;\n",
              "      display: none;\n",
              "      fill: #1967D2;\n",
              "      height: 32px;\n",
              "      padding: 0 0 0 0;\n",
              "      width: 32px;\n",
              "    }\n",
              "\n",
              "    .colab-df-convert:hover {\n",
              "      background-color: #E2EBFA;\n",
              "      box-shadow: 0px 1px 2px rgba(60, 64, 67, 0.3), 0px 1px 3px 1px rgba(60, 64, 67, 0.15);\n",
              "      fill: #174EA6;\n",
              "    }\n",
              "\n",
              "    [theme=dark] .colab-df-convert {\n",
              "      background-color: #3B4455;\n",
              "      fill: #D2E3FC;\n",
              "    }\n",
              "\n",
              "    [theme=dark] .colab-df-convert:hover {\n",
              "      background-color: #434B5C;\n",
              "      box-shadow: 0px 1px 3px 1px rgba(0, 0, 0, 0.15);\n",
              "      filter: drop-shadow(0px 1px 2px rgba(0, 0, 0, 0.3));\n",
              "      fill: #FFFFFF;\n",
              "    }\n",
              "  </style>\n",
              "\n",
              "      <script>\n",
              "        const buttonEl =\n",
              "          document.querySelector('#df-8d4eac51-9ad7-43bc-93dd-0c9a70e29a43 button.colab-df-convert');\n",
              "        buttonEl.style.display =\n",
              "          google.colab.kernel.accessAllowed ? 'block' : 'none';\n",
              "\n",
              "        async function convertToInteractive(key) {\n",
              "          const element = document.querySelector('#df-8d4eac51-9ad7-43bc-93dd-0c9a70e29a43');\n",
              "          const dataTable =\n",
              "            await google.colab.kernel.invokeFunction('convertToInteractive',\n",
              "                                                     [key], {});\n",
              "          if (!dataTable) return;\n",
              "\n",
              "          const docLinkHtml = 'Like what you see? Visit the ' +\n",
              "            '<a target=\"_blank\" href=https://colab.research.google.com/notebooks/data_table.ipynb>data table notebook</a>'\n",
              "            + ' to learn more about interactive tables.';\n",
              "          element.innerHTML = '';\n",
              "          dataTable['output_type'] = 'display_data';\n",
              "          await google.colab.output.renderOutput(dataTable, element);\n",
              "          const docLink = document.createElement('div');\n",
              "          docLink.innerHTML = docLinkHtml;\n",
              "          element.appendChild(docLink);\n",
              "        }\n",
              "      </script>\n",
              "    </div>\n",
              "  </div>\n",
              "  "
            ]
          },
          "metadata": {},
          "execution_count": 62
        }
      ]
    },
    {
      "cell_type": "code",
      "source": [
        "X_1.describe()"
      ],
      "metadata": {
        "colab": {
          "base_uri": "https://localhost:8080/",
          "height": 463
        },
        "id": "Dpi2k6UHb8Mn",
        "outputId": "e9c8294b-4c0b-49c4-bbc9-e1e54957ff82"
      },
      "execution_count": 63,
      "outputs": [
        {
          "output_type": "execute_result",
          "data": {
            "text/plain": [
              "       COMPONENT_ARBITRARY   ANONYMOUS_1          YEAR  SAMPLE_TRANSFER_DAY  \\\n",
              "count         14095.000000  1.409500e+04  1.409500e+04         1.409500e+04   \n",
              "mean              1.343242  1.134247e-17 -7.444693e-15        -2.520549e-18   \n",
              "std               0.946841  1.000035e+00  1.000035e+00         1.000035e+00   \n",
              "min               0.000000 -5.090402e-01 -1.677968e+00        -6.506659e-01   \n",
              "25%               0.000000 -3.536774e-01 -9.212744e-01        -3.938433e-01   \n",
              "50%               2.000000 -2.180019e-01  8.765009e-02        -2.226282e-01   \n",
              "75%               2.000000  1.543943e-01  8.443435e-01         3.419443e-02   \n",
              "max               3.000000  6.909607e+01  2.105499e+00         3.085291e+01   \n",
              "\n",
              "        ANONYMOUS_2            AG            AL             B            BA  \\\n",
              "count  1.409500e+04  1.409500e+04  1.409500e+04  1.409500e+04  1.409500e+04   \n",
              "mean  -7.057537e-18 -1.814795e-17 -1.159452e-17  3.024659e-17  1.209863e-17   \n",
              "std    1.000035e+00  1.000035e+00  1.000035e+00  1.000035e+00  1.000035e+00   \n",
              "min   -3.407601e-01 -1.502136e-01 -1.461244e-01 -6.223795e-01 -2.384531e-01   \n",
              "25%   -3.407601e-01 -1.502136e-01 -1.346255e-01 -5.932173e-01 -2.384531e-01   \n",
              "50%   -3.407601e-01 -1.502136e-01 -1.231266e-01 -5.154517e-01 -2.384531e-01   \n",
              "75%    4.106046e-02 -1.502136e-01 -1.001289e-01  4.468978e-01 -2.384531e-01   \n",
              "max    1.684117e+01  1.729974e+01  5.309374e+01  1.931478e+01  7.410618e+01   \n",
              "\n",
              "                 BE  ...           U50           U25           U20  \\\n",
              "count  1.409500e+04  ...  1.409500e+04  1.409500e+04  1.409500e+04   \n",
              "mean  -5.545208e-18  ... -6.049317e-18  1.814795e-17 -4.536988e-18   \n",
              "std    1.000035e+00  ...  1.000035e+00  1.000035e+00  1.000035e+00   \n",
              "min   -4.149130e-02  ... -1.236926e-01 -2.663112e-01 -2.628095e-01   \n",
              "25%   -4.149130e-02  ... -5.690410e-02 -9.302819e-02 -9.262929e-02   \n",
              "50%   -4.149130e-02  ... -5.690410e-02 -9.302819e-02 -9.262929e-02   \n",
              "75%   -4.149130e-02  ... -5.690410e-02 -9.302819e-02 -9.262929e-02   \n",
              "max    5.909760e+01  ...  6.259073e+01  4.060372e+01  3.811938e+01   \n",
              "\n",
              "                U14            U6            U4             V          V100  \\\n",
              "count  1.409500e+04  1.409500e+04  1.409500e+04  1.409500e+04  1.409500e+04   \n",
              "mean  -2.016439e-17 -5.041098e-19  6.301372e-18  2.974248e-17 -2.117261e-16   \n",
              "std    1.000035e+00  1.000035e+00  1.000035e+00  1.000035e+00  1.000035e+00   \n",
              "min   -3.090075e-01 -3.742563e-01 -8.605800e-01 -1.065502e-01 -1.517904e+01   \n",
              "25%   -1.005384e-01 -9.136851e-02 -6.418211e-02 -1.065502e-01  0.000000e+00   \n",
              "50%   -1.005384e-01 -9.136851e-02 -6.418211e-02 -1.065502e-01  0.000000e+00   \n",
              "75%   -1.005384e-01 -9.136851e-02 -6.418211e-02 -1.065502e-01  0.000000e+00   \n",
              "max    4.100445e+01  6.678507e+01  5.276833e+01  3.565119e+01  2.958122e+01   \n",
              "\n",
              "                V40            ZN  \n",
              "count  1.409500e+04  1.409500e+04  \n",
              "mean  -8.569866e-18  9.048771e-17  \n",
              "std    1.000035e+00  1.000035e+00  \n",
              "min   -2.145827e+00 -1.107052e+00  \n",
              "25%   -7.570116e-01 -1.037467e+00  \n",
              "50%    3.918889e-02 -1.291022e-01  \n",
              "75%    5.612545e-01  9.974209e-01  \n",
              "max    5.505160e+01  2.902543e+00  \n",
              "\n",
              "[8 rows x 52 columns]"
            ],
            "text/html": [
              "\n",
              "  <div id=\"df-6db283ef-4a0d-46cf-8414-a1914a70d0e3\">\n",
              "    <div class=\"colab-df-container\">\n",
              "      <div>\n",
              "<style scoped>\n",
              "    .dataframe tbody tr th:only-of-type {\n",
              "        vertical-align: middle;\n",
              "    }\n",
              "\n",
              "    .dataframe tbody tr th {\n",
              "        vertical-align: top;\n",
              "    }\n",
              "\n",
              "    .dataframe thead th {\n",
              "        text-align: right;\n",
              "    }\n",
              "</style>\n",
              "<table border=\"1\" class=\"dataframe\">\n",
              "  <thead>\n",
              "    <tr style=\"text-align: right;\">\n",
              "      <th></th>\n",
              "      <th>COMPONENT_ARBITRARY</th>\n",
              "      <th>ANONYMOUS_1</th>\n",
              "      <th>YEAR</th>\n",
              "      <th>SAMPLE_TRANSFER_DAY</th>\n",
              "      <th>ANONYMOUS_2</th>\n",
              "      <th>AG</th>\n",
              "      <th>AL</th>\n",
              "      <th>B</th>\n",
              "      <th>BA</th>\n",
              "      <th>BE</th>\n",
              "      <th>...</th>\n",
              "      <th>U50</th>\n",
              "      <th>U25</th>\n",
              "      <th>U20</th>\n",
              "      <th>U14</th>\n",
              "      <th>U6</th>\n",
              "      <th>U4</th>\n",
              "      <th>V</th>\n",
              "      <th>V100</th>\n",
              "      <th>V40</th>\n",
              "      <th>ZN</th>\n",
              "    </tr>\n",
              "  </thead>\n",
              "  <tbody>\n",
              "    <tr>\n",
              "      <th>count</th>\n",
              "      <td>14095.000000</td>\n",
              "      <td>1.409500e+04</td>\n",
              "      <td>1.409500e+04</td>\n",
              "      <td>1.409500e+04</td>\n",
              "      <td>1.409500e+04</td>\n",
              "      <td>1.409500e+04</td>\n",
              "      <td>1.409500e+04</td>\n",
              "      <td>1.409500e+04</td>\n",
              "      <td>1.409500e+04</td>\n",
              "      <td>1.409500e+04</td>\n",
              "      <td>...</td>\n",
              "      <td>1.409500e+04</td>\n",
              "      <td>1.409500e+04</td>\n",
              "      <td>1.409500e+04</td>\n",
              "      <td>1.409500e+04</td>\n",
              "      <td>1.409500e+04</td>\n",
              "      <td>1.409500e+04</td>\n",
              "      <td>1.409500e+04</td>\n",
              "      <td>1.409500e+04</td>\n",
              "      <td>1.409500e+04</td>\n",
              "      <td>1.409500e+04</td>\n",
              "    </tr>\n",
              "    <tr>\n",
              "      <th>mean</th>\n",
              "      <td>1.343242</td>\n",
              "      <td>1.134247e-17</td>\n",
              "      <td>-7.444693e-15</td>\n",
              "      <td>-2.520549e-18</td>\n",
              "      <td>-7.057537e-18</td>\n",
              "      <td>-1.814795e-17</td>\n",
              "      <td>-1.159452e-17</td>\n",
              "      <td>3.024659e-17</td>\n",
              "      <td>1.209863e-17</td>\n",
              "      <td>-5.545208e-18</td>\n",
              "      <td>...</td>\n",
              "      <td>-6.049317e-18</td>\n",
              "      <td>1.814795e-17</td>\n",
              "      <td>-4.536988e-18</td>\n",
              "      <td>-2.016439e-17</td>\n",
              "      <td>-5.041098e-19</td>\n",
              "      <td>6.301372e-18</td>\n",
              "      <td>2.974248e-17</td>\n",
              "      <td>-2.117261e-16</td>\n",
              "      <td>-8.569866e-18</td>\n",
              "      <td>9.048771e-17</td>\n",
              "    </tr>\n",
              "    <tr>\n",
              "      <th>std</th>\n",
              "      <td>0.946841</td>\n",
              "      <td>1.000035e+00</td>\n",
              "      <td>1.000035e+00</td>\n",
              "      <td>1.000035e+00</td>\n",
              "      <td>1.000035e+00</td>\n",
              "      <td>1.000035e+00</td>\n",
              "      <td>1.000035e+00</td>\n",
              "      <td>1.000035e+00</td>\n",
              "      <td>1.000035e+00</td>\n",
              "      <td>1.000035e+00</td>\n",
              "      <td>...</td>\n",
              "      <td>1.000035e+00</td>\n",
              "      <td>1.000035e+00</td>\n",
              "      <td>1.000035e+00</td>\n",
              "      <td>1.000035e+00</td>\n",
              "      <td>1.000035e+00</td>\n",
              "      <td>1.000035e+00</td>\n",
              "      <td>1.000035e+00</td>\n",
              "      <td>1.000035e+00</td>\n",
              "      <td>1.000035e+00</td>\n",
              "      <td>1.000035e+00</td>\n",
              "    </tr>\n",
              "    <tr>\n",
              "      <th>min</th>\n",
              "      <td>0.000000</td>\n",
              "      <td>-5.090402e-01</td>\n",
              "      <td>-1.677968e+00</td>\n",
              "      <td>-6.506659e-01</td>\n",
              "      <td>-3.407601e-01</td>\n",
              "      <td>-1.502136e-01</td>\n",
              "      <td>-1.461244e-01</td>\n",
              "      <td>-6.223795e-01</td>\n",
              "      <td>-2.384531e-01</td>\n",
              "      <td>-4.149130e-02</td>\n",
              "      <td>...</td>\n",
              "      <td>-1.236926e-01</td>\n",
              "      <td>-2.663112e-01</td>\n",
              "      <td>-2.628095e-01</td>\n",
              "      <td>-3.090075e-01</td>\n",
              "      <td>-3.742563e-01</td>\n",
              "      <td>-8.605800e-01</td>\n",
              "      <td>-1.065502e-01</td>\n",
              "      <td>-1.517904e+01</td>\n",
              "      <td>-2.145827e+00</td>\n",
              "      <td>-1.107052e+00</td>\n",
              "    </tr>\n",
              "    <tr>\n",
              "      <th>25%</th>\n",
              "      <td>0.000000</td>\n",
              "      <td>-3.536774e-01</td>\n",
              "      <td>-9.212744e-01</td>\n",
              "      <td>-3.938433e-01</td>\n",
              "      <td>-3.407601e-01</td>\n",
              "      <td>-1.502136e-01</td>\n",
              "      <td>-1.346255e-01</td>\n",
              "      <td>-5.932173e-01</td>\n",
              "      <td>-2.384531e-01</td>\n",
              "      <td>-4.149130e-02</td>\n",
              "      <td>...</td>\n",
              "      <td>-5.690410e-02</td>\n",
              "      <td>-9.302819e-02</td>\n",
              "      <td>-9.262929e-02</td>\n",
              "      <td>-1.005384e-01</td>\n",
              "      <td>-9.136851e-02</td>\n",
              "      <td>-6.418211e-02</td>\n",
              "      <td>-1.065502e-01</td>\n",
              "      <td>0.000000e+00</td>\n",
              "      <td>-7.570116e-01</td>\n",
              "      <td>-1.037467e+00</td>\n",
              "    </tr>\n",
              "    <tr>\n",
              "      <th>50%</th>\n",
              "      <td>2.000000</td>\n",
              "      <td>-2.180019e-01</td>\n",
              "      <td>8.765009e-02</td>\n",
              "      <td>-2.226282e-01</td>\n",
              "      <td>-3.407601e-01</td>\n",
              "      <td>-1.502136e-01</td>\n",
              "      <td>-1.231266e-01</td>\n",
              "      <td>-5.154517e-01</td>\n",
              "      <td>-2.384531e-01</td>\n",
              "      <td>-4.149130e-02</td>\n",
              "      <td>...</td>\n",
              "      <td>-5.690410e-02</td>\n",
              "      <td>-9.302819e-02</td>\n",
              "      <td>-9.262929e-02</td>\n",
              "      <td>-1.005384e-01</td>\n",
              "      <td>-9.136851e-02</td>\n",
              "      <td>-6.418211e-02</td>\n",
              "      <td>-1.065502e-01</td>\n",
              "      <td>0.000000e+00</td>\n",
              "      <td>3.918889e-02</td>\n",
              "      <td>-1.291022e-01</td>\n",
              "    </tr>\n",
              "    <tr>\n",
              "      <th>75%</th>\n",
              "      <td>2.000000</td>\n",
              "      <td>1.543943e-01</td>\n",
              "      <td>8.443435e-01</td>\n",
              "      <td>3.419443e-02</td>\n",
              "      <td>4.106046e-02</td>\n",
              "      <td>-1.502136e-01</td>\n",
              "      <td>-1.001289e-01</td>\n",
              "      <td>4.468978e-01</td>\n",
              "      <td>-2.384531e-01</td>\n",
              "      <td>-4.149130e-02</td>\n",
              "      <td>...</td>\n",
              "      <td>-5.690410e-02</td>\n",
              "      <td>-9.302819e-02</td>\n",
              "      <td>-9.262929e-02</td>\n",
              "      <td>-1.005384e-01</td>\n",
              "      <td>-9.136851e-02</td>\n",
              "      <td>-6.418211e-02</td>\n",
              "      <td>-1.065502e-01</td>\n",
              "      <td>0.000000e+00</td>\n",
              "      <td>5.612545e-01</td>\n",
              "      <td>9.974209e-01</td>\n",
              "    </tr>\n",
              "    <tr>\n",
              "      <th>max</th>\n",
              "      <td>3.000000</td>\n",
              "      <td>6.909607e+01</td>\n",
              "      <td>2.105499e+00</td>\n",
              "      <td>3.085291e+01</td>\n",
              "      <td>1.684117e+01</td>\n",
              "      <td>1.729974e+01</td>\n",
              "      <td>5.309374e+01</td>\n",
              "      <td>1.931478e+01</td>\n",
              "      <td>7.410618e+01</td>\n",
              "      <td>5.909760e+01</td>\n",
              "      <td>...</td>\n",
              "      <td>6.259073e+01</td>\n",
              "      <td>4.060372e+01</td>\n",
              "      <td>3.811938e+01</td>\n",
              "      <td>4.100445e+01</td>\n",
              "      <td>6.678507e+01</td>\n",
              "      <td>5.276833e+01</td>\n",
              "      <td>3.565119e+01</td>\n",
              "      <td>2.958122e+01</td>\n",
              "      <td>5.505160e+01</td>\n",
              "      <td>2.902543e+00</td>\n",
              "    </tr>\n",
              "  </tbody>\n",
              "</table>\n",
              "<p>8 rows × 52 columns</p>\n",
              "</div>\n",
              "      <button class=\"colab-df-convert\" onclick=\"convertToInteractive('df-6db283ef-4a0d-46cf-8414-a1914a70d0e3')\"\n",
              "              title=\"Convert this dataframe to an interactive table.\"\n",
              "              style=\"display:none;\">\n",
              "        \n",
              "  <svg xmlns=\"http://www.w3.org/2000/svg\" height=\"24px\"viewBox=\"0 0 24 24\"\n",
              "       width=\"24px\">\n",
              "    <path d=\"M0 0h24v24H0V0z\" fill=\"none\"/>\n",
              "    <path d=\"M18.56 5.44l.94 2.06.94-2.06 2.06-.94-2.06-.94-.94-2.06-.94 2.06-2.06.94zm-11 1L8.5 8.5l.94-2.06 2.06-.94-2.06-.94L8.5 2.5l-.94 2.06-2.06.94zm10 10l.94 2.06.94-2.06 2.06-.94-2.06-.94-.94-2.06-.94 2.06-2.06.94z\"/><path d=\"M17.41 7.96l-1.37-1.37c-.4-.4-.92-.59-1.43-.59-.52 0-1.04.2-1.43.59L10.3 9.45l-7.72 7.72c-.78.78-.78 2.05 0 2.83L4 21.41c.39.39.9.59 1.41.59.51 0 1.02-.2 1.41-.59l7.78-7.78 2.81-2.81c.8-.78.8-2.07 0-2.86zM5.41 20L4 18.59l7.72-7.72 1.47 1.35L5.41 20z\"/>\n",
              "  </svg>\n",
              "      </button>\n",
              "      \n",
              "  <style>\n",
              "    .colab-df-container {\n",
              "      display:flex;\n",
              "      flex-wrap:wrap;\n",
              "      gap: 12px;\n",
              "    }\n",
              "\n",
              "    .colab-df-convert {\n",
              "      background-color: #E8F0FE;\n",
              "      border: none;\n",
              "      border-radius: 50%;\n",
              "      cursor: pointer;\n",
              "      display: none;\n",
              "      fill: #1967D2;\n",
              "      height: 32px;\n",
              "      padding: 0 0 0 0;\n",
              "      width: 32px;\n",
              "    }\n",
              "\n",
              "    .colab-df-convert:hover {\n",
              "      background-color: #E2EBFA;\n",
              "      box-shadow: 0px 1px 2px rgba(60, 64, 67, 0.3), 0px 1px 3px 1px rgba(60, 64, 67, 0.15);\n",
              "      fill: #174EA6;\n",
              "    }\n",
              "\n",
              "    [theme=dark] .colab-df-convert {\n",
              "      background-color: #3B4455;\n",
              "      fill: #D2E3FC;\n",
              "    }\n",
              "\n",
              "    [theme=dark] .colab-df-convert:hover {\n",
              "      background-color: #434B5C;\n",
              "      box-shadow: 0px 1px 3px 1px rgba(0, 0, 0, 0.15);\n",
              "      filter: drop-shadow(0px 1px 2px rgba(0, 0, 0, 0.3));\n",
              "      fill: #FFFFFF;\n",
              "    }\n",
              "  </style>\n",
              "\n",
              "      <script>\n",
              "        const buttonEl =\n",
              "          document.querySelector('#df-6db283ef-4a0d-46cf-8414-a1914a70d0e3 button.colab-df-convert');\n",
              "        buttonEl.style.display =\n",
              "          google.colab.kernel.accessAllowed ? 'block' : 'none';\n",
              "\n",
              "        async function convertToInteractive(key) {\n",
              "          const element = document.querySelector('#df-6db283ef-4a0d-46cf-8414-a1914a70d0e3');\n",
              "          const dataTable =\n",
              "            await google.colab.kernel.invokeFunction('convertToInteractive',\n",
              "                                                     [key], {});\n",
              "          if (!dataTable) return;\n",
              "\n",
              "          const docLinkHtml = 'Like what you see? Visit the ' +\n",
              "            '<a target=\"_blank\" href=https://colab.research.google.com/notebooks/data_table.ipynb>data table notebook</a>'\n",
              "            + ' to learn more about interactive tables.';\n",
              "          element.innerHTML = '';\n",
              "          dataTable['output_type'] = 'display_data';\n",
              "          await google.colab.output.renderOutput(dataTable, element);\n",
              "          const docLink = document.createElement('div');\n",
              "          docLink.innerHTML = docLinkHtml;\n",
              "          element.appendChild(docLink);\n",
              "        }\n",
              "      </script>\n",
              "    </div>\n",
              "  </div>\n",
              "  "
            ]
          },
          "metadata": {},
          "execution_count": 63
        }
      ]
    },
    {
      "cell_type": "code",
      "source": [
        "print('첫번째 앙상블 x 데이터셋은 다음과 같은 형태입니다. ' , X_1.shape)\n",
        "print(\"첫번째 앙상블 y 데이터셋은 다음과 같은 형태입니다. \", y_1.shape)"
      ],
      "metadata": {
        "colab": {
          "base_uri": "https://localhost:8080/"
        },
        "id": "6fCRnjY_b8Kd",
        "outputId": "21113d81-7b2f-4773-dff0-b31a08bac4a6"
      },
      "execution_count": 64,
      "outputs": [
        {
          "output_type": "stream",
          "name": "stdout",
          "text": [
            "첫번째 앙상블 x 데이터셋은 다음과 같은 형태입니다.  (14095, 52)\n",
            "첫번째 앙상블 y 데이터셋은 다음과 같은 형태입니다.  (14095,)\n"
          ]
        }
      ]
    },
    {
      "cell_type": "code",
      "source": [],
      "metadata": {
        "id": "nElpbycib8IT"
      },
      "execution_count": null,
      "outputs": []
    },
    {
      "cell_type": "code",
      "source": [],
      "metadata": {
        "id": "HspL8eYZb8Gc"
      },
      "execution_count": null,
      "outputs": []
    },
    {
      "cell_type": "markdown",
      "source": [
        "# ensemble 2 dataset"
      ],
      "metadata": {
        "id": "c2_cIVIJb859"
      }
    },
    {
      "cell_type": "markdown",
      "source": [
        "ensemble 2 는 알루미늄이 없습니다."
      ],
      "metadata": {
        "id": "66eWIPCBkLBD"
      }
    },
    {
      "cell_type": "code",
      "source": [
        "#ensemble 2 는 알루미늄이 제거된 것. \n",
        "X_2 = X_1.copy()\n",
        "y_2 = y_1.copy()\n",
        "X_2 = X_1.drop([\"AL\"], axis = 1)\n",
        "\n",
        "print('두번째 앙상블 x 데이터셋은 다음과 같은 형태입니다. ' , X_2.shape)\n",
        "print(\"두번째 앙상블 y 데이터셋은 다음과 같은 형태입니다. \", y_2.shape)"
      ],
      "metadata": {
        "colab": {
          "base_uri": "https://localhost:8080/"
        },
        "id": "zBc5ukdrb_b7",
        "outputId": "bbf462f5-6ab9-48c5-e9ae-26f1cf22dc7a"
      },
      "execution_count": 65,
      "outputs": [
        {
          "output_type": "stream",
          "name": "stdout",
          "text": [
            "두번째 앙상블 x 데이터셋은 다음과 같은 형태입니다.  (14095, 51)\n",
            "두번째 앙상블 y 데이터셋은 다음과 같은 형태입니다.  (14095,)\n"
          ]
        }
      ]
    },
    {
      "cell_type": "markdown",
      "source": [
        "# ensemble 3 dataset"
      ],
      "metadata": {
        "id": "V20fzciikPaL"
      }
    },
    {
      "cell_type": "code",
      "source": [
        "X_for_3 = train.copy()\n",
        "na_value = X_for_3.apply(lambda x: x.isna().sum())\n",
        "\n",
        "\n",
        "real_na = na_value[na_value>0]\n",
        "\n",
        "plt.bar(real_na.index, real_na)\n",
        "plt.xticks(rotation=40)"
      ],
      "metadata": {
        "colab": {
          "base_uri": "https://localhost:8080/",
          "height": 359
        },
        "id": "XMwygjWeb_Zx",
        "outputId": "832635fd-49c9-4ddc-9d53-4646a52e2397"
      },
      "execution_count": 66,
      "outputs": [
        {
          "output_type": "execute_result",
          "data": {
            "text/plain": [
              "([0, 1, 2, 3, 4, 5, 6, 7, 8, 9, 10, 11, 12, 13, 14, 15, 16, 17, 18],\n",
              " <a list of 19 Text major ticklabel objects>)"
            ]
          },
          "metadata": {},
          "execution_count": 66
        },
        {
          "output_type": "display_data",
          "data": {
            "text/plain": [
              "<Figure size 432x288 with 1 Axes>"
            ],
            "image/png": "[encoded data removed]"
          },
          "metadata": {
            "needs_background": "light"
          }
        }
      ]
    },
    {
      "cell_type": "code",
      "source": [
        "X_for_3 = train.copy()\n",
        "na_value = X_for_3.apply(lambda x: x.isna().sum())\n",
        "real_na = na_value[na_value>0]\n",
        "almost_na = list(real_na[real_na>8000].index)\n",
        "X_for_3 = X_for_3.drop(almost_na, axis = 1)\n",
        "print(X_for_3.shape)"
      ],
      "metadata": {
        "colab": {
          "base_uri": "https://localhost:8080/"
        },
        "id": "-iNy6sxNkODz",
        "outputId": "3d8e226c-e92f-4e16-eaf6-34e53a351976"
      },
      "execution_count": 75,
      "outputs": [
        {
          "output_type": "stream",
          "name": "stdout",
          "text": [
            "(14095, 37)\n"
          ]
        }
      ]
    },
    {
      "cell_type": "code",
      "source": [
        "#범주형 데이터 처리\n",
        "le = LabelEncoder()\n",
        "le.fit(X_for_3[\"COMPONENT_ARBITRARY\"])\n",
        "le_encoded = le.transform(X_for_3[\"COMPONENT_ARBITRARY\"])\n",
        "X_for_3[\"COMPONENT_ARBITRARY\"] = le_encoded\n"
      ],
      "metadata": {
        "id": "xr1E4j6hkOBy"
      },
      "execution_count": 77,
      "outputs": []
    },
    {
      "cell_type": "code",
      "source": [
        "X_for_3[\"CD\"] = X_for_3[\"CD\"].fillna(0)\n",
        "X_for_3[\"K\"] = X_for_3[\"K\"].fillna(X_for_3[\"K\"].median())\n",
        "\n",
        "X_for_3.apply(lambda x : x.isna().sum())"
      ],
      "metadata": {
        "id": "xkolbuNPb_Xv"
      },
      "execution_count": null,
      "outputs": []
    },
    {
      "cell_type": "code",
      "source": [
        "#scaling\n",
        "X_3 = X_for_3.drop([\"Y_LABEL\", \"ID\"], axis = 1)\n",
        "y_3 = X_for_3[\"Y_LABEL\"]\n",
        "robust_col = []\n",
        "standard_col = []\n",
        "for col in X_3.columns:\n",
        "  if X_3[col].skew()>2:\n",
        "    robust_col.append(col)\n",
        "  else:\n",
        "    standard_col.append(col)\n",
        "  \n",
        "print(robust_col)\n",
        "print(\"\\n\", standard_col)\n"
      ],
      "metadata": {
        "colab": {
          "base_uri": "https://localhost:8080/"
        },
        "id": "X2s8lD5ob_Vv",
        "outputId": "e3ff22f1-da20-4eb4-84e4-b75a5f31540e"
      },
      "execution_count": 79,
      "outputs": [
        {
          "output_type": "stream",
          "name": "stdout",
          "text": [
            "['ANONYMOUS_1', 'SAMPLE_TRANSFER_DAY', 'ANONYMOUS_2', 'AG', 'AL', 'B', 'BA', 'BE', 'CD', 'CO', 'CR', 'CU', 'FE', 'H2O', 'K', 'LI', 'MG', 'MN', 'MO', 'NA', 'NI', 'PB', 'PQINDEX', 'SB', 'SI', 'SN', 'TI', 'V', 'V40']\n",
            "\n",
            " ['COMPONENT_ARBITRARY', 'YEAR', 'CA', 'P', 'S', 'ZN']\n"
          ]
        }
      ]
    },
    {
      "cell_type": "code",
      "source": [
        "for col in X_3.columns:\n",
        "  if col != \"COMPONENT_ARBITRARY\":\n",
        "    if col in robust_col:\n",
        "      scaler = RobustScaler()\n",
        "      X_3[col] = scaler.fit_transform(X_3[[col]])\n",
        "      \n",
        "      #정규화 \n",
        "      scaler2 = StandardScaler()\n",
        "      X_3[col] = scaler2.fit_transform(X_3[[col]])\n",
        "\n",
        "\n",
        "\n",
        "\n",
        "    elif col in standard_col:\n",
        "      scaler = StandardScaler()\n",
        "      X_3[col] = scaler.fit_transform(X_3[[col]])\n",
        "\n",
        "    else:\n",
        "      print(\"#####error#####\")\n",
        "\n",
        "X_3.head(5)"
      ],
      "metadata": {
        "colab": {
          "base_uri": "https://localhost:8080/",
          "height": 300
        },
        "id": "npJkdnXYb_Ts",
        "outputId": "8a881e79-9328-4ede-d6f2-2342d15104b7"
      },
      "execution_count": 81,
      "outputs": [
        {
          "output_type": "execute_result",
          "data": {
            "text/plain": [
              "   COMPONENT_ARBITRARY  ANONYMOUS_1      YEAR  SAMPLE_TRANSFER_DAY  \\\n",
              "0                    2    -0.393763 -0.669043            -0.051413   \n",
              "1                    1    -0.426022  1.853268             3.715319   \n",
              "2                    1    -0.173409  0.339881            -0.479451   \n",
              "3                    2     1.006399 -0.921274            -0.479451   \n",
              "4                    2     0.191634  0.339881            -0.308236   \n",
              "\n",
              "   ANONYMOUS_2        AG        AL         B        BA        BE  ...  \\\n",
              "0    -0.340760 -0.150214 -0.111628  0.281646 -0.238453 -0.041491  ...   \n",
              "1    -0.022576 -0.150214 -0.123127 -0.437686 -0.238453 -0.041491  ...   \n",
              "2    -0.340760 -0.150214  1.118753 -0.612659  0.105735 -0.041491  ...   \n",
              "3    -0.340760 -0.150214 -0.054133 -0.593217 -0.238453 -0.041491  ...   \n",
              "4    -0.340760 -0.150214 -0.134626  0.903771 -0.238453 -0.041491  ...   \n",
              "\n",
              "         PB   PQINDEX         S        SB        SI        SN        TI  \\\n",
              "0 -0.160812  5.293270  1.001652 -0.174727  2.006643  0.302478  0.622282   \n",
              "1  0.033010 -0.259244 -1.170187 -0.174727 -0.179489 -0.252439 -0.102635   \n",
              "2 -0.160812 -0.260552 -1.146917 -0.174727 -0.179489  0.025019 -0.102635   \n",
              "3 -0.063901 -0.242884  1.044975  0.557916 -0.174370  0.025019 -0.102635   \n",
              "4 -0.160812 -0.129674  0.690669 -0.174727 -0.169250 -0.252439 -0.102635   \n",
              "\n",
              "         V       V40        ZN  \n",
              "0 -0.10655  0.899892 -0.966002  \n",
              "1 -0.10655 -1.317376  0.119147  \n",
              "2 -0.10655 -0.740886 -0.332215  \n",
              "3 -0.10655  0.482642 -1.093888  \n",
              "4 -0.10655  0.478611 -0.866326  \n",
              "\n",
              "[5 rows x 35 columns]"
            ],
            "text/html": [
              "\n",
              "  <div id=\"df-9bdb9680-27ca-4b26-95b2-c43093c8597a\">\n",
              "    <div class=\"colab-df-container\">\n",
              "      <div>\n",
              "<style scoped>\n",
              "    .dataframe tbody tr th:only-of-type {\n",
              "        vertical-align: middle;\n",
              "    }\n",
              "\n",
              "    .dataframe tbody tr th {\n",
              "        vertical-align: top;\n",
              "    }\n",
              "\n",
              "    .dataframe thead th {\n",
              "        text-align: right;\n",
              "    }\n",
              "</style>\n",
              "<table border=\"1\" class=\"dataframe\">\n",
              "  <thead>\n",
              "    <tr style=\"text-align: right;\">\n",
              "      <th></th>\n",
              "      <th>COMPONENT_ARBITRARY</th>\n",
              "      <th>ANONYMOUS_1</th>\n",
              "      <th>YEAR</th>\n",
              "      <th>SAMPLE_TRANSFER_DAY</th>\n",
              "      <th>ANONYMOUS_2</th>\n",
              "      <th>AG</th>\n",
              "      <th>AL</th>\n",
              "      <th>B</th>\n",
              "      <th>BA</th>\n",
              "      <th>BE</th>\n",
              "      <th>...</th>\n",
              "      <th>PB</th>\n",
              "      <th>PQINDEX</th>\n",
              "      <th>S</th>\n",
              "      <th>SB</th>\n",
              "      <th>SI</th>\n",
              "      <th>SN</th>\n",
              "      <th>TI</th>\n",
              "      <th>V</th>\n",
              "      <th>V40</th>\n",
              "      <th>ZN</th>\n",
              "    </tr>\n",
              "  </thead>\n",
              "  <tbody>\n",
              "    <tr>\n",
              "      <th>0</th>\n",
              "      <td>2</td>\n",
              "      <td>-0.393763</td>\n",
              "      <td>-0.669043</td>\n",
              "      <td>-0.051413</td>\n",
              "      <td>-0.340760</td>\n",
              "      <td>-0.150214</td>\n",
              "      <td>-0.111628</td>\n",
              "      <td>0.281646</td>\n",
              "      <td>-0.238453</td>\n",
              "      <td>-0.041491</td>\n",
              "      <td>...</td>\n",
              "      <td>-0.160812</td>\n",
              "      <td>5.293270</td>\n",
              "      <td>1.001652</td>\n",
              "      <td>-0.174727</td>\n",
              "      <td>2.006643</td>\n",
              "      <td>0.302478</td>\n",
              "      <td>0.622282</td>\n",
              "      <td>-0.10655</td>\n",
              "      <td>0.899892</td>\n",
              "      <td>-0.966002</td>\n",
              "    </tr>\n",
              "    <tr>\n",
              "      <th>1</th>\n",
              "      <td>1</td>\n",
              "      <td>-0.426022</td>\n",
              "      <td>1.853268</td>\n",
              "      <td>3.715319</td>\n",
              "      <td>-0.022576</td>\n",
              "      <td>-0.150214</td>\n",
              "      <td>-0.123127</td>\n",
              "      <td>-0.437686</td>\n",
              "      <td>-0.238453</td>\n",
              "      <td>-0.041491</td>\n",
              "      <td>...</td>\n",
              "      <td>0.033010</td>\n",
              "      <td>-0.259244</td>\n",
              "      <td>-1.170187</td>\n",
              "      <td>-0.174727</td>\n",
              "      <td>-0.179489</td>\n",
              "      <td>-0.252439</td>\n",
              "      <td>-0.102635</td>\n",
              "      <td>-0.10655</td>\n",
              "      <td>-1.317376</td>\n",
              "      <td>0.119147</td>\n",
              "    </tr>\n",
              "    <tr>\n",
              "      <th>2</th>\n",
              "      <td>1</td>\n",
              "      <td>-0.173409</td>\n",
              "      <td>0.339881</td>\n",
              "      <td>-0.479451</td>\n",
              "      <td>-0.340760</td>\n",
              "      <td>-0.150214</td>\n",
              "      <td>1.118753</td>\n",
              "      <td>-0.612659</td>\n",
              "      <td>0.105735</td>\n",
              "      <td>-0.041491</td>\n",
              "      <td>...</td>\n",
              "      <td>-0.160812</td>\n",
              "      <td>-0.260552</td>\n",
              "      <td>-1.146917</td>\n",
              "      <td>-0.174727</td>\n",
              "      <td>-0.179489</td>\n",
              "      <td>0.025019</td>\n",
              "      <td>-0.102635</td>\n",
              "      <td>-0.10655</td>\n",
              "      <td>-0.740886</td>\n",
              "      <td>-0.332215</td>\n",
              "    </tr>\n",
              "    <tr>\n",
              "      <th>3</th>\n",
              "      <td>2</td>\n",
              "      <td>1.006399</td>\n",
              "      <td>-0.921274</td>\n",
              "      <td>-0.479451</td>\n",
              "      <td>-0.340760</td>\n",
              "      <td>-0.150214</td>\n",
              "      <td>-0.054133</td>\n",
              "      <td>-0.593217</td>\n",
              "      <td>-0.238453</td>\n",
              "      <td>-0.041491</td>\n",
              "      <td>...</td>\n",
              "      <td>-0.063901</td>\n",
              "      <td>-0.242884</td>\n",
              "      <td>1.044975</td>\n",
              "      <td>0.557916</td>\n",
              "      <td>-0.174370</td>\n",
              "      <td>0.025019</td>\n",
              "      <td>-0.102635</td>\n",
              "      <td>-0.10655</td>\n",
              "      <td>0.482642</td>\n",
              "      <td>-1.093888</td>\n",
              "    </tr>\n",
              "    <tr>\n",
              "      <th>4</th>\n",
              "      <td>2</td>\n",
              "      <td>0.191634</td>\n",
              "      <td>0.339881</td>\n",
              "      <td>-0.308236</td>\n",
              "      <td>-0.340760</td>\n",
              "      <td>-0.150214</td>\n",
              "      <td>-0.134626</td>\n",
              "      <td>0.903771</td>\n",
              "      <td>-0.238453</td>\n",
              "      <td>-0.041491</td>\n",
              "      <td>...</td>\n",
              "      <td>-0.160812</td>\n",
              "      <td>-0.129674</td>\n",
              "      <td>0.690669</td>\n",
              "      <td>-0.174727</td>\n",
              "      <td>-0.169250</td>\n",
              "      <td>-0.252439</td>\n",
              "      <td>-0.102635</td>\n",
              "      <td>-0.10655</td>\n",
              "      <td>0.478611</td>\n",
              "      <td>-0.866326</td>\n",
              "    </tr>\n",
              "  </tbody>\n",
              "</table>\n",
              "<p>5 rows × 35 columns</p>\n",
              "</div>\n",
              "      <button class=\"colab-df-convert\" onclick=\"convertToInteractive('df-9bdb9680-27ca-4b26-95b2-c43093c8597a')\"\n",
              "              title=\"Convert this dataframe to an interactive table.\"\n",
              "              style=\"display:none;\">\n",
              "        \n",
              "  <svg xmlns=\"http://www.w3.org/2000/svg\" height=\"24px\"viewBox=\"0 0 24 24\"\n",
              "       width=\"24px\">\n",
              "    <path d=\"M0 0h24v24H0V0z\" fill=\"none\"/>\n",
              "    <path d=\"M18.56 5.44l.94 2.06.94-2.06 2.06-.94-2.06-.94-.94-2.06-.94 2.06-2.06.94zm-11 1L8.5 8.5l.94-2.06 2.06-.94-2.06-.94L8.5 2.5l-.94 2.06-2.06.94zm10 10l.94 2.06.94-2.06 2.06-.94-2.06-.94-.94-2.06-.94 2.06-2.06.94z\"/><path d=\"M17.41 7.96l-1.37-1.37c-.4-.4-.92-.59-1.43-.59-.52 0-1.04.2-1.43.59L10.3 9.45l-7.72 7.72c-.78.78-.78 2.05 0 2.83L4 21.41c.39.39.9.59 1.41.59.51 0 1.02-.2 1.41-.59l7.78-7.78 2.81-2.81c.8-.78.8-2.07 0-2.86zM5.41 20L4 18.59l7.72-7.72 1.47 1.35L5.41 20z\"/>\n",
              "  </svg>\n",
              "      </button>\n",
              "      \n",
              "  <style>\n",
              "    .colab-df-container {\n",
              "      display:flex;\n",
              "      flex-wrap:wrap;\n",
              "      gap: 12px;\n",
              "    }\n",
              "\n",
              "    .colab-df-convert {\n",
              "      background-color: #E8F0FE;\n",
              "      border: none;\n",
              "      border-radius: 50%;\n",
              "      cursor: pointer;\n",
              "      display: none;\n",
              "      fill: #1967D2;\n",
              "      height: 32px;\n",
              "      padding: 0 0 0 0;\n",
              "      width: 32px;\n",
              "    }\n",
              "\n",
              "    .colab-df-convert:hover {\n",
              "      background-color: #E2EBFA;\n",
              "      box-shadow: 0px 1px 2px rgba(60, 64, 67, 0.3), 0px 1px 3px 1px rgba(60, 64, 67, 0.15);\n",
              "      fill: #174EA6;\n",
              "    }\n",
              "\n",
              "    [theme=dark] .colab-df-convert {\n",
              "      background-color: #3B4455;\n",
              "      fill: #D2E3FC;\n",
              "    }\n",
              "\n",
              "    [theme=dark] .colab-df-convert:hover {\n",
              "      background-color: #434B5C;\n",
              "      box-shadow: 0px 1px 3px 1px rgba(0, 0, 0, 0.15);\n",
              "      filter: drop-shadow(0px 1px 2px rgba(0, 0, 0, 0.3));\n",
              "      fill: #FFFFFF;\n",
              "    }\n",
              "  </style>\n",
              "\n",
              "      <script>\n",
              "        const buttonEl =\n",
              "          document.querySelector('#df-9bdb9680-27ca-4b26-95b2-c43093c8597a button.colab-df-convert');\n",
              "        buttonEl.style.display =\n",
              "          google.colab.kernel.accessAllowed ? 'block' : 'none';\n",
              "\n",
              "        async function convertToInteractive(key) {\n",
              "          const element = document.querySelector('#df-9bdb9680-27ca-4b26-95b2-c43093c8597a');\n",
              "          const dataTable =\n",
              "            await google.colab.kernel.invokeFunction('convertToInteractive',\n",
              "                                                     [key], {});\n",
              "          if (!dataTable) return;\n",
              "\n",
              "          const docLinkHtml = 'Like what you see? Visit the ' +\n",
              "            '<a target=\"_blank\" href=https://colab.research.google.com/notebooks/data_table.ipynb>data table notebook</a>'\n",
              "            + ' to learn more about interactive tables.';\n",
              "          element.innerHTML = '';\n",
              "          dataTable['output_type'] = 'display_data';\n",
              "          await google.colab.output.renderOutput(dataTable, element);\n",
              "          const docLink = document.createElement('div');\n",
              "          docLink.innerHTML = docLinkHtml;\n",
              "          element.appendChild(docLink);\n",
              "        }\n",
              "      </script>\n",
              "    </div>\n",
              "  </div>\n",
              "  "
            ]
          },
          "metadata": {},
          "execution_count": 81
        }
      ]
    },
    {
      "cell_type": "code",
      "source": [
        "X_3.describe()"
      ],
      "metadata": {
        "colab": {
          "base_uri": "https://localhost:8080/",
          "height": 394
        },
        "id": "cNNVjSk5b_Ry",
        "outputId": "339beb8f-b62f-467c-c535-444da3319a66"
      },
      "execution_count": 82,
      "outputs": [
        {
          "output_type": "execute_result",
          "data": {
            "text/plain": [
              "       COMPONENT_ARBITRARY   ANONYMOUS_1          YEAR  SAMPLE_TRANSFER_DAY  \\\n",
              "count         14095.000000  1.409500e+04  1.409500e+04         1.409500e+04   \n",
              "mean              1.343242 -6.049317e-18  2.621371e-17         9.830141e-18   \n",
              "std               0.946841  1.000035e+00  1.000035e+00         1.000035e+00   \n",
              "min               0.000000 -5.090402e-01 -1.677968e+00        -6.506659e-01   \n",
              "25%               0.000000 -3.536774e-01 -9.212744e-01        -3.938433e-01   \n",
              "50%               2.000000 -2.180019e-01  8.765009e-02        -2.226282e-01   \n",
              "75%               2.000000  1.543943e-01  8.443435e-01         3.419443e-02   \n",
              "max               3.000000  6.909607e+01  2.105499e+00         3.085291e+01   \n",
              "\n",
              "        ANONYMOUS_2            AG            AL             B            BA  \\\n",
              "count  1.409500e+04  1.409500e+04  1.409500e+04  1.409500e+04  1.409500e+04   \n",
              "mean   2.520549e-18 -1.814795e-17 -5.041098e-18 -3.881645e-17  4.032878e-17   \n",
              "std    1.000035e+00  1.000035e+00  1.000035e+00  1.000035e+00  1.000035e+00   \n",
              "min   -3.407601e-01 -1.502136e-01 -1.461244e-01 -6.223795e-01 -2.384531e-01   \n",
              "25%   -3.407601e-01 -1.502136e-01 -1.346255e-01 -5.932173e-01 -2.384531e-01   \n",
              "50%   -3.407601e-01 -1.502136e-01 -1.231266e-01 -5.154517e-01 -2.384531e-01   \n",
              "75%    4.106046e-02 -1.502136e-01 -1.001289e-01  4.468978e-01 -2.384531e-01   \n",
              "max    1.684117e+01  1.729974e+01  5.309374e+01  1.931478e+01  7.410618e+01   \n",
              "\n",
              "                 BE  ...            PB       PQINDEX             S  \\\n",
              "count  1.409500e+04  ...  1.409500e+04  1.409500e+04  1.409500e+04   \n",
              "mean  -1.260274e-17  ... -2.570960e-17  1.109042e-17  4.133700e-17   \n",
              "std    1.000035e+00  ...  1.000035e+00  1.000035e+00  1.000035e+00   \n",
              "min   -4.149130e-02  ... -1.608122e-01 -2.716770e-01 -1.248576e+00   \n",
              "25%   -4.149130e-02  ... -1.608122e-01 -2.638243e-01 -8.137899e-01   \n",
              "50%   -4.149130e-02  ... -1.608122e-01 -2.526996e-01 -4.284396e-01   \n",
              "75%   -4.149130e-02  ...  3.300950e-02 -1.532321e-01  8.279303e-01   \n",
              "max    5.909760e+01  ...  7.116556e+01  3.687225e+01  5.590254e+00   \n",
              "\n",
              "                 SB            SI            SN            TI             V  \\\n",
              "count  1.409500e+04  1.409500e+04  1.409500e+04  1.409500e+04  1.409500e+04   \n",
              "mean   2.621371e-17 -3.024659e-18  1.537535e-17 -4.536988e-18  3.377536e-17   \n",
              "std    1.000035e+00  1.000035e+00  1.000035e+00  1.000035e+00  1.000035e+00   \n",
              "min   -1.747274e-01 -1.794894e-01 -2.524386e-01 -1.026354e-01 -1.065502e-01   \n",
              "25%   -1.747274e-01 -1.641302e-01 -2.524386e-01 -1.026354e-01 -1.065502e-01   \n",
              "50%   -1.747274e-01 -1.487709e-01 -2.524386e-01 -1.026354e-01 -1.065502e-01   \n",
              "75%   -1.747274e-01 -1.180524e-01  2.501946e-02 -1.026354e-01 -1.065502e-01   \n",
              "max    3.755643e+01  2.776922e+01  7.993295e+01  5.832574e+01  3.565119e+01   \n",
              "\n",
              "                V40            ZN  \n",
              "count  1.409500e+04  1.409500e+04  \n",
              "mean  -4.536988e-18  3.932056e-17  \n",
              "std    1.000035e+00  1.000035e+00  \n",
              "min   -2.145827e+00 -1.107052e+00  \n",
              "25%   -7.570116e-01 -1.037467e+00  \n",
              "50%    3.918889e-02 -1.291022e-01  \n",
              "75%    5.612545e-01  9.974209e-01  \n",
              "max    5.505160e+01  2.902543e+00  \n",
              "\n",
              "[8 rows x 35 columns]"
            ],
            "text/html": [
              "\n",
              "  <div id=\"df-03ad28f5-8dd6-4886-87a8-e4e3185c22cb\">\n",
              "    <div class=\"colab-df-container\">\n",
              "      <div>\n",
              "<style scoped>\n",
              "    .dataframe tbody tr th:only-of-type {\n",
              "        vertical-align: middle;\n",
              "    }\n",
              "\n",
              "    .dataframe tbody tr th {\n",
              "        vertical-align: top;\n",
              "    }\n",
              "\n",
              "    .dataframe thead th {\n",
              "        text-align: right;\n",
              "    }\n",
              "</style>\n",
              "<table border=\"1\" class=\"dataframe\">\n",
              "  <thead>\n",
              "    <tr style=\"text-align: right;\">\n",
              "      <th></th>\n",
              "      <th>COMPONENT_ARBITRARY</th>\n",
              "      <th>ANONYMOUS_1</th>\n",
              "      <th>YEAR</th>\n",
              "      <th>SAMPLE_TRANSFER_DAY</th>\n",
              "      <th>ANONYMOUS_2</th>\n",
              "      <th>AG</th>\n",
              "      <th>AL</th>\n",
              "      <th>B</th>\n",
              "      <th>BA</th>\n",
              "      <th>BE</th>\n",
              "      <th>...</th>\n",
              "      <th>PB</th>\n",
              "      <th>PQINDEX</th>\n",
              "      <th>S</th>\n",
              "      <th>SB</th>\n",
              "      <th>SI</th>\n",
              "      <th>SN</th>\n",
              "      <th>TI</th>\n",
              "      <th>V</th>\n",
              "      <th>V40</th>\n",
              "      <th>ZN</th>\n",
              "    </tr>\n",
              "  </thead>\n",
              "  <tbody>\n",
              "    <tr>\n",
              "      <th>count</th>\n",
              "      <td>14095.000000</td>\n",
              "      <td>1.409500e+04</td>\n",
              "      <td>1.409500e+04</td>\n",
              "      <td>1.409500e+04</td>\n",
              "      <td>1.409500e+04</td>\n",
              "      <td>1.409500e+04</td>\n",
              "      <td>1.409500e+04</td>\n",
              "      <td>1.409500e+04</td>\n",
              "      <td>1.409500e+04</td>\n",
              "      <td>1.409500e+04</td>\n",
              "      <td>...</td>\n",
              "      <td>1.409500e+04</td>\n",
              "      <td>1.409500e+04</td>\n",
              "      <td>1.409500e+04</td>\n",
              "      <td>1.409500e+04</td>\n",
              "      <td>1.409500e+04</td>\n",
              "      <td>1.409500e+04</td>\n",
              "      <td>1.409500e+04</td>\n",
              "      <td>1.409500e+04</td>\n",
              "      <td>1.409500e+04</td>\n",
              "      <td>1.409500e+04</td>\n",
              "    </tr>\n",
              "    <tr>\n",
              "      <th>mean</th>\n",
              "      <td>1.343242</td>\n",
              "      <td>-6.049317e-18</td>\n",
              "      <td>2.621371e-17</td>\n",
              "      <td>9.830141e-18</td>\n",
              "      <td>2.520549e-18</td>\n",
              "      <td>-1.814795e-17</td>\n",
              "      <td>-5.041098e-18</td>\n",
              "      <td>-3.881645e-17</td>\n",
              "      <td>4.032878e-17</td>\n",
              "      <td>-1.260274e-17</td>\n",
              "      <td>...</td>\n",
              "      <td>-2.570960e-17</td>\n",
              "      <td>1.109042e-17</td>\n",
              "      <td>4.133700e-17</td>\n",
              "      <td>2.621371e-17</td>\n",
              "      <td>-3.024659e-18</td>\n",
              "      <td>1.537535e-17</td>\n",
              "      <td>-4.536988e-18</td>\n",
              "      <td>3.377536e-17</td>\n",
              "      <td>-4.536988e-18</td>\n",
              "      <td>3.932056e-17</td>\n",
              "    </tr>\n",
              "    <tr>\n",
              "      <th>std</th>\n",
              "      <td>0.946841</td>\n",
              "      <td>1.000035e+00</td>\n",
              "      <td>1.000035e+00</td>\n",
              "      <td>1.000035e+00</td>\n",
              "      <td>1.000035e+00</td>\n",
              "      <td>1.000035e+00</td>\n",
              "      <td>1.000035e+00</td>\n",
              "      <td>1.000035e+00</td>\n",
              "      <td>1.000035e+00</td>\n",
              "      <td>1.000035e+00</td>\n",
              "      <td>...</td>\n",
              "      <td>1.000035e+00</td>\n",
              "      <td>1.000035e+00</td>\n",
              "      <td>1.000035e+00</td>\n",
              "      <td>1.000035e+00</td>\n",
              "      <td>1.000035e+00</td>\n",
              "      <td>1.000035e+00</td>\n",
              "      <td>1.000035e+00</td>\n",
              "      <td>1.000035e+00</td>\n",
              "      <td>1.000035e+00</td>\n",
              "      <td>1.000035e+00</td>\n",
              "    </tr>\n",
              "    <tr>\n",
              "      <th>min</th>\n",
              "      <td>0.000000</td>\n",
              "      <td>-5.090402e-01</td>\n",
              "      <td>-1.677968e+00</td>\n",
              "      <td>-6.506659e-01</td>\n",
              "      <td>-3.407601e-01</td>\n",
              "      <td>-1.502136e-01</td>\n",
              "      <td>-1.461244e-01</td>\n",
              "      <td>-6.223795e-01</td>\n",
              "      <td>-2.384531e-01</td>\n",
              "      <td>-4.149130e-02</td>\n",
              "      <td>...</td>\n",
              "      <td>-1.608122e-01</td>\n",
              "      <td>-2.716770e-01</td>\n",
              "      <td>-1.248576e+00</td>\n",
              "      <td>-1.747274e-01</td>\n",
              "      <td>-1.794894e-01</td>\n",
              "      <td>-2.524386e-01</td>\n",
              "      <td>-1.026354e-01</td>\n",
              "      <td>-1.065502e-01</td>\n",
              "      <td>-2.145827e+00</td>\n",
              "      <td>-1.107052e+00</td>\n",
              "    </tr>\n",
              "    <tr>\n",
              "      <th>25%</th>\n",
              "      <td>0.000000</td>\n",
              "      <td>-3.536774e-01</td>\n",
              "      <td>-9.212744e-01</td>\n",
              "      <td>-3.938433e-01</td>\n",
              "      <td>-3.407601e-01</td>\n",
              "      <td>-1.502136e-01</td>\n",
              "      <td>-1.346255e-01</td>\n",
              "      <td>-5.932173e-01</td>\n",
              "      <td>-2.384531e-01</td>\n",
              "      <td>-4.149130e-02</td>\n",
              "      <td>...</td>\n",
              "      <td>-1.608122e-01</td>\n",
              "      <td>-2.638243e-01</td>\n",
              "      <td>-8.137899e-01</td>\n",
              "      <td>-1.747274e-01</td>\n",
              "      <td>-1.641302e-01</td>\n",
              "      <td>-2.524386e-01</td>\n",
              "      <td>-1.026354e-01</td>\n",
              "      <td>-1.065502e-01</td>\n",
              "      <td>-7.570116e-01</td>\n",
              "      <td>-1.037467e+00</td>\n",
              "    </tr>\n",
              "    <tr>\n",
              "      <th>50%</th>\n",
              "      <td>2.000000</td>\n",
              "      <td>-2.180019e-01</td>\n",
              "      <td>8.765009e-02</td>\n",
              "      <td>-2.226282e-01</td>\n",
              "      <td>-3.407601e-01</td>\n",
              "      <td>-1.502136e-01</td>\n",
              "      <td>-1.231266e-01</td>\n",
              "      <td>-5.154517e-01</td>\n",
              "      <td>-2.384531e-01</td>\n",
              "      <td>-4.149130e-02</td>\n",
              "      <td>...</td>\n",
              "      <td>-1.608122e-01</td>\n",
              "      <td>-2.526996e-01</td>\n",
              "      <td>-4.284396e-01</td>\n",
              "      <td>-1.747274e-01</td>\n",
              "      <td>-1.487709e-01</td>\n",
              "      <td>-2.524386e-01</td>\n",
              "      <td>-1.026354e-01</td>\n",
              "      <td>-1.065502e-01</td>\n",
              "      <td>3.918889e-02</td>\n",
              "      <td>-1.291022e-01</td>\n",
              "    </tr>\n",
              "    <tr>\n",
              "      <th>75%</th>\n",
              "      <td>2.000000</td>\n",
              "      <td>1.543943e-01</td>\n",
              "      <td>8.443435e-01</td>\n",
              "      <td>3.419443e-02</td>\n",
              "      <td>4.106046e-02</td>\n",
              "      <td>-1.502136e-01</td>\n",
              "      <td>-1.001289e-01</td>\n",
              "      <td>4.468978e-01</td>\n",
              "      <td>-2.384531e-01</td>\n",
              "      <td>-4.149130e-02</td>\n",
              "      <td>...</td>\n",
              "      <td>3.300950e-02</td>\n",
              "      <td>-1.532321e-01</td>\n",
              "      <td>8.279303e-01</td>\n",
              "      <td>-1.747274e-01</td>\n",
              "      <td>-1.180524e-01</td>\n",
              "      <td>2.501946e-02</td>\n",
              "      <td>-1.026354e-01</td>\n",
              "      <td>-1.065502e-01</td>\n",
              "      <td>5.612545e-01</td>\n",
              "      <td>9.974209e-01</td>\n",
              "    </tr>\n",
              "    <tr>\n",
              "      <th>max</th>\n",
              "      <td>3.000000</td>\n",
              "      <td>6.909607e+01</td>\n",
              "      <td>2.105499e+00</td>\n",
              "      <td>3.085291e+01</td>\n",
              "      <td>1.684117e+01</td>\n",
              "      <td>1.729974e+01</td>\n",
              "      <td>5.309374e+01</td>\n",
              "      <td>1.931478e+01</td>\n",
              "      <td>7.410618e+01</td>\n",
              "      <td>5.909760e+01</td>\n",
              "      <td>...</td>\n",
              "      <td>7.116556e+01</td>\n",
              "      <td>3.687225e+01</td>\n",
              "      <td>5.590254e+00</td>\n",
              "      <td>3.755643e+01</td>\n",
              "      <td>2.776922e+01</td>\n",
              "      <td>7.993295e+01</td>\n",
              "      <td>5.832574e+01</td>\n",
              "      <td>3.565119e+01</td>\n",
              "      <td>5.505160e+01</td>\n",
              "      <td>2.902543e+00</td>\n",
              "    </tr>\n",
              "  </tbody>\n",
              "</table>\n",
              "<p>8 rows × 35 columns</p>\n",
              "</div>\n",
              "      <button class=\"colab-df-convert\" onclick=\"convertToInteractive('df-03ad28f5-8dd6-4886-87a8-e4e3185c22cb')\"\n",
              "              title=\"Convert this dataframe to an interactive table.\"\n",
              "              style=\"display:none;\">\n",
              "        \n",
              "  <svg xmlns=\"http://www.w3.org/2000/svg\" height=\"24px\"viewBox=\"0 0 24 24\"\n",
              "       width=\"24px\">\n",
              "    <path d=\"M0 0h24v24H0V0z\" fill=\"none\"/>\n",
              "    <path d=\"M18.56 5.44l.94 2.06.94-2.06 2.06-.94-2.06-.94-.94-2.06-.94 2.06-2.06.94zm-11 1L8.5 8.5l.94-2.06 2.06-.94-2.06-.94L8.5 2.5l-.94 2.06-2.06.94zm10 10l.94 2.06.94-2.06 2.06-.94-2.06-.94-.94-2.06-.94 2.06-2.06.94z\"/><path d=\"M17.41 7.96l-1.37-1.37c-.4-.4-.92-.59-1.43-.59-.52 0-1.04.2-1.43.59L10.3 9.45l-7.72 7.72c-.78.78-.78 2.05 0 2.83L4 21.41c.39.39.9.59 1.41.59.51 0 1.02-.2 1.41-.59l7.78-7.78 2.81-2.81c.8-.78.8-2.07 0-2.86zM5.41 20L4 18.59l7.72-7.72 1.47 1.35L5.41 20z\"/>\n",
              "  </svg>\n",
              "      </button>\n",
              "      \n",
              "  <style>\n",
              "    .colab-df-container {\n",
              "      display:flex;\n",
              "      flex-wrap:wrap;\n",
              "      gap: 12px;\n",
              "    }\n",
              "\n",
              "    .colab-df-convert {\n",
              "      background-color: #E8F0FE;\n",
              "      border: none;\n",
              "      border-radius: 50%;\n",
              "      cursor: pointer;\n",
              "      display: none;\n",
              "      fill: #1967D2;\n",
              "      height: 32px;\n",
              "      padding: 0 0 0 0;\n",
              "      width: 32px;\n",
              "    }\n",
              "\n",
              "    .colab-df-convert:hover {\n",
              "      background-color: #E2EBFA;\n",
              "      box-shadow: 0px 1px 2px rgba(60, 64, 67, 0.3), 0px 1px 3px 1px rgba(60, 64, 67, 0.15);\n",
              "      fill: #174EA6;\n",
              "    }\n",
              "\n",
              "    [theme=dark] .colab-df-convert {\n",
              "      background-color: #3B4455;\n",
              "      fill: #D2E3FC;\n",
              "    }\n",
              "\n",
              "    [theme=dark] .colab-df-convert:hover {\n",
              "      background-color: #434B5C;\n",
              "      box-shadow: 0px 1px 3px 1px rgba(0, 0, 0, 0.15);\n",
              "      filter: drop-shadow(0px 1px 2px rgba(0, 0, 0, 0.3));\n",
              "      fill: #FFFFFF;\n",
              "    }\n",
              "  </style>\n",
              "\n",
              "      <script>\n",
              "        const buttonEl =\n",
              "          document.querySelector('#df-03ad28f5-8dd6-4886-87a8-e4e3185c22cb button.colab-df-convert');\n",
              "        buttonEl.style.display =\n",
              "          google.colab.kernel.accessAllowed ? 'block' : 'none';\n",
              "\n",
              "        async function convertToInteractive(key) {\n",
              "          const element = document.querySelector('#df-03ad28f5-8dd6-4886-87a8-e4e3185c22cb');\n",
              "          const dataTable =\n",
              "            await google.colab.kernel.invokeFunction('convertToInteractive',\n",
              "                                                     [key], {});\n",
              "          if (!dataTable) return;\n",
              "\n",
              "          const docLinkHtml = 'Like what you see? Visit the ' +\n",
              "            '<a target=\"_blank\" href=https://colab.research.google.com/notebooks/data_table.ipynb>data table notebook</a>'\n",
              "            + ' to learn more about interactive tables.';\n",
              "          element.innerHTML = '';\n",
              "          dataTable['output_type'] = 'display_data';\n",
              "          await google.colab.output.renderOutput(dataTable, element);\n",
              "          const docLink = document.createElement('div');\n",
              "          docLink.innerHTML = docLinkHtml;\n",
              "          element.appendChild(docLink);\n",
              "        }\n",
              "      </script>\n",
              "    </div>\n",
              "  </div>\n",
              "  "
            ]
          },
          "metadata": {},
          "execution_count": 82
        }
      ]
    },
    {
      "cell_type": "code",
      "source": [
        "print('세번째 앙상블 x 데이터셋은 다음과 같은 형태입니다. ' , X_3.shape)\n",
        "print(\"세번째 앙상블 y 데이터셋은 다음과 같은 형태입니다. \", y_3.shape)"
      ],
      "metadata": {
        "colab": {
          "base_uri": "https://localhost:8080/"
        },
        "id": "DrG6FROLb_Ph",
        "outputId": "a90c68b5-f00c-46f0-ae24-4b5b0932ebac"
      },
      "execution_count": 83,
      "outputs": [
        {
          "output_type": "stream",
          "name": "stdout",
          "text": [
            "세번째 앙상블 x 데이터셋은 다음과 같은 형태입니다.  (14095, 35)\n",
            "세번째 앙상블 y 데이터셋은 다음과 같은 형태입니다.  (14095,)\n"
          ]
        }
      ]
    },
    {
      "cell_type": "markdown",
      "source": [
        "# ensemble 4 dataset"
      ],
      "metadata": {
        "id": "RgavCDy7omv4"
      }
    },
    {
      "cell_type": "code",
      "source": [
        "X_for_4 = train.copy()\n"
      ],
      "metadata": {
        "id": "Bgcb4w4ikN_0"
      },
      "execution_count": null,
      "outputs": []
    },
    {
      "cell_type": "markdown",
      "source": [
        "# parameter, ensemble 모델들 정의\n"
      ],
      "metadata": {
        "id": "O_RSQX3Wrkaq"
      }
    },
    {
      "cell_type": "code",
      "source": [
        "#hyperparameter tuning 을 해야하기 때문\n",
        "\n",
        "CFG_list = {\n",
        "    'EPOCHS': [10, 20],\n",
        "    'LEARNING_RATE':[1e-1, 1e-2, 1e-3],\n",
        "    'BATCH_SIZE':[32, 64, 128],\n",
        "    'SEED':[41]\n",
        "}"
      ],
      "metadata": {
        "id": "f4_Q6sZTuL6o"
      },
      "execution_count": null,
      "outputs": []
    },
    {
      "cell_type": "code",
      "source": [
        "class Teacher_1(nn.Module): #6층짜리 \n",
        "    def __init__(self, i_feat):\n",
        "        super(Teacher_1, self).__init__()\n",
        "        self.in_features = i_feat\n",
        "        self.classifier = nn.Sequential(\n",
        "            nn.Linear(in_features=self.in_features, out_features=32),\n",
        "            nn.BatchNorm1d(32),\n",
        "            nn.LeakyReLU(),\n",
        "            nn.Linear(in_features=32, out_features=64),\n",
        "            nn.BatchNorm1d(64),\n",
        "            nn.LeakyReLU(),\n",
        "            nn.Linear(in_features=64, out_features=128),\n",
        "            nn.BatchNorm1d(128),\n",
        "            nn.LeakyReLU(),\n",
        "            nn.Linear(in_features=128, out_features=256),\n",
        "            nn.BatchNorm1d(256),\n",
        "            nn.LeakyReLU(),\n",
        "            nn.Linear(in_features=256, out_features=256),\n",
        "            nn.BatchNorm1d(256),\n",
        "            nn.LeakyReLU(),\n",
        "            nn.Linear(in_features=256, out_features=1),\n",
        "            nn.Sigmoid()\n",
        "        )\n",
        "        \n",
        "    def forward(self, x):\n",
        "        output = self.classifier(x)\n",
        "        return output"
      ],
      "metadata": {
        "id": "deorBG16oUTm"
      },
      "execution_count": null,
      "outputs": []
    },
    {
      "cell_type": "code",
      "source": [
        "class Teacher_2(nn.Module): #4층짜리 \n",
        "    def __init__(self, i_feat):\n",
        "        super(Teacher_2, self).__init__()\n",
        "        self.in_features = i_feat\n",
        "        self.classifier = nn.Sequential(\n",
        "            nn.Linear(in_features=in_features, out_features=64),\n",
        "            nn.BatchNorm1d(64),\n",
        "            nn.LeakyReLU(),\n",
        "            nn.Linear(in_features=64, out_features=256),\n",
        "            nn.BatchNorm1d(256),\n",
        "            nn.LeakyReLU(),\n",
        "            nn.Linear(in_features=256, out_features=128),\n",
        "            nn.BatchNorm1d(128),\n",
        "            nn.LeakyReLU(),\n",
        "            nn.Linear(in_features=128, out_features=1),\n",
        "            nn.Sigmoid()\n",
        "        )\n",
        "        \n",
        "    def forward(self, x):\n",
        "        output = self.classifier(x)\n",
        "        return output"
      ],
      "metadata": {
        "id": "zEvaH9gjoURk"
      },
      "execution_count": null,
      "outputs": []
    },
    {
      "cell_type": "code",
      "source": [
        "class Teacher_3(nn.Module): #4층짜리. light.\n",
        "    def __init__(self, i_feat):\n",
        "        super(Teacher_3, self).__init__()\n",
        "        self.in_features = i_feat\n",
        "        self.classifier = nn.Sequential(\n",
        "            nn.Linear(in_features=in_features, out_features=32),\n",
        "            nn.BatchNorm1d(32),\n",
        "            nn.LeakyReLU(),\n",
        "            nn.Linear(in_features=32, out_features=64),\n",
        "            nn.BatchNorm1d(64),\n",
        "            nn.LeakyReLU(),\n",
        "            nn.Linear(in_features=64, out_features=64),\n",
        "            nn.BatchNorm1d(64),\n",
        "            nn.LeakyReLU(),\n",
        "            nn.Linear(in_features=64, out_features=1),\n",
        "            nn.Sigmoid()\n",
        "        )\n",
        "        \n",
        "    def forward(self, x):\n",
        "        output = self.classifier(x)\n",
        "        return output"
      ],
      "metadata": {
        "id": "hkZOSGGfoUPi"
      },
      "execution_count": null,
      "outputs": []
    },
    {
      "cell_type": "markdown",
      "source": [
        "# Parellizable 함수"
      ],
      "metadata": {
        "id": "lLC3N4XFuNRK"
      }
    },
    {
      "cell_type": "markdown",
      "source": [
        "데이터셋 **구축**"
      ],
      "metadata": {
        "id": "RKJturESvoFK"
      }
    },
    {
      "cell_type": "code",
      "source": [
        "class CustomDataset(Dataset):\n",
        "    def __init__(self, data_X, data_y, distillation=False):\n",
        "        super(CustomDataset, self).__init__()\n",
        "        self.data_X = data_X\n",
        "        self.data_y = data_y\n",
        "        self.distillation = distillation\n",
        "        \n",
        "    def __len__(self):\n",
        "        return len(self.data_X)\n",
        "    \n",
        "    def __getitem__(self, index):\n",
        "        if self.distillation:\n",
        "            # 지식 증류 학습 시\n",
        "            teacher_X = torch.Tensor(self.data_X.iloc[index])\n",
        "            student_X = torch.Tensor(self.data_X[test_col].iloc[index]) #보수부분. student는 19개 정도의 column만 갖고 있음\n",
        "            y = self.data_y.values[index]\n",
        "            return teacher_X, student_X, y\n",
        "        else:\n",
        "            if self.data_y is None:\n",
        "                test_X = torch.Tensor(self.data_X.iloc[index])\n",
        "                return test_X\n",
        "                \n",
        "            else:\n",
        "                teacher_X = torch.Tensor(self.data_X.iloc[index])\n",
        "                y = self.data_y.values[index]\n",
        "                return teacher_X, y"
      ],
      "metadata": {
        "id": "dXZbn93ToUNJ"
      },
      "execution_count": null,
      "outputs": []
    },
    {
      "cell_type": "code",
      "source": [],
      "metadata": {
        "id": "XkvCvCUmuJRg"
      },
      "execution_count": null,
      "outputs": []
    },
    {
      "cell_type": "code",
      "source": [],
      "metadata": {
        "id": "vzx-0eSBuJPW"
      },
      "execution_count": null,
      "outputs": []
    },
    {
      "cell_type": "code",
      "source": [],
      "metadata": {
        "id": "WbUK3c6FuJNc"
      },
      "execution_count": null,
      "outputs": []
    },
    {
      "cell_type": "code",
      "source": [],
      "metadata": {
        "id": "xGDGU6fwuJLE"
      },
      "execution_count": null,
      "outputs": []
    }
  ]
}